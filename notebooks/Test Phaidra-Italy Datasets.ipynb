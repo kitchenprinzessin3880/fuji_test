{
 "cells": [
  {
   "cell_type": "code",
   "execution_count": 27,
   "metadata": {},
   "outputs": [],
   "source": [
    "import json\n",
    "import requests\n",
    "%matplotlib inline\n",
    "import numpy as np\n",
    "import matplotlib.pyplot as plt\n",
    "plt.rcParams['axes.grid'] = True\n",
    "import pandas as pd\n",
    "import seaborn as sns \n",
    "import itertools\n",
    "import time\n",
    "from oaipmh.client import Client\n",
    "from oaipmh.metadata import MetadataRegistry, oai_dc_reader\n",
    "import random\n",
    "pd.set_option('display.max_colwidth', None)"
   ]
  },
  {
   "cell_type": "code",
   "execution_count": 28,
   "metadata": {},
   "outputs": [],
   "source": [
    "fuji_service = 'http://localhost:1071/fuji/api/v1/evaluate'\n",
    "data_dir = 'results'"
   ]
  },
  {
   "cell_type": "markdown",
   "metadata": {},
   "source": [
    "Request metric defs"
   ]
  },
  {
   "cell_type": "code",
   "execution_count": 29,
   "metadata": {},
   "outputs": [],
   "source": [
    "metrics = []\n",
    "try:\n",
    "    request = requests.get('http://localhost:1071/fuji/api/v1/metrics',headers={'Content-Type': 'application/json'}, auth=('username', 'password'))\n",
    "    mm = request.json()['metrics']\n",
    "    for m in mm:\n",
    "        metrics.append({k: m[k] for k in ('metric_identifier', 'metric_name', 'total_score')})\n",
    "except requests.exceptions.RequestException as e:\n",
    "    print(e)\n",
    "except requests.exceptions.ConnectionError as e1:\n",
    "    print(e1)"
   ]
  },
  {
   "cell_type": "code",
   "execution_count": 30,
   "metadata": {},
   "outputs": [
    {
     "data": {
      "text/html": [
       "<div>\n",
       "<style scoped>\n",
       "    .dataframe tbody tr th:only-of-type {\n",
       "        vertical-align: middle;\n",
       "    }\n",
       "\n",
       "    .dataframe tbody tr th {\n",
       "        vertical-align: top;\n",
       "    }\n",
       "\n",
       "    .dataframe thead th {\n",
       "        text-align: right;\n",
       "    }\n",
       "</style>\n",
       "<table border=\"1\" class=\"dataframe\">\n",
       "  <thead>\n",
       "    <tr style=\"text-align: right;\">\n",
       "      <th></th>\n",
       "      <th>metric_identifier</th>\n",
       "      <th>metric_name</th>\n",
       "      <th>total_score</th>\n",
       "    </tr>\n",
       "  </thead>\n",
       "  <tbody>\n",
       "    <tr>\n",
       "      <th>0</th>\n",
       "      <td>FsF-F1-01D</td>\n",
       "      <td>Data is assigned a globally unique identifier.</td>\n",
       "      <td>1</td>\n",
       "    </tr>\n",
       "    <tr>\n",
       "      <th>1</th>\n",
       "      <td>FsF-F1-02D</td>\n",
       "      <td>Data is assigned a persistent identifier.</td>\n",
       "      <td>1</td>\n",
       "    </tr>\n",
       "    <tr>\n",
       "      <th>2</th>\n",
       "      <td>FsF-F2-01M</td>\n",
       "      <td>Metadata includes descriptive core elements (creator, title, data identifier, publisher, publication date, summary and keywords) to support data findability.</td>\n",
       "      <td>2</td>\n",
       "    </tr>\n",
       "    <tr>\n",
       "      <th>3</th>\n",
       "      <td>FsF-F3-01M</td>\n",
       "      <td>Metadata includes the identifier of the data it describes.</td>\n",
       "      <td>1</td>\n",
       "    </tr>\n",
       "    <tr>\n",
       "      <th>4</th>\n",
       "      <td>FsF-F4-01M</td>\n",
       "      <td>Metadata is offered in such a way that it can be retrieved programmatically.</td>\n",
       "      <td>2</td>\n",
       "    </tr>\n",
       "    <tr>\n",
       "      <th>5</th>\n",
       "      <td>FsF-A1-01M</td>\n",
       "      <td>Metadata contains access level and access conditions of the data.</td>\n",
       "      <td>1</td>\n",
       "    </tr>\n",
       "    <tr>\n",
       "      <th>6</th>\n",
       "      <td>FsF-A1-02MD</td>\n",
       "      <td>Metadata as well as data are retrievable by their identifier using a standardized communications protocol.</td>\n",
       "      <td>2</td>\n",
       "    </tr>\n",
       "    <tr>\n",
       "      <th>7</th>\n",
       "      <td>FsF-A2-01M</td>\n",
       "      <td>Metadata remains available, even if the data is no longer available.</td>\n",
       "      <td>1</td>\n",
       "    </tr>\n",
       "    <tr>\n",
       "      <th>8</th>\n",
       "      <td>FsF-I1-01M</td>\n",
       "      <td>Metadata is represented using a formal knowledge representation language.</td>\n",
       "      <td>2</td>\n",
       "    </tr>\n",
       "    <tr>\n",
       "      <th>9</th>\n",
       "      <td>FsF-I1-02M</td>\n",
       "      <td>Metadata uses semantic resources</td>\n",
       "      <td>1</td>\n",
       "    </tr>\n",
       "    <tr>\n",
       "      <th>10</th>\n",
       "      <td>FsF-I3-01M</td>\n",
       "      <td>Metadata includes links between the data and its related entities.</td>\n",
       "      <td>1</td>\n",
       "    </tr>\n",
       "    <tr>\n",
       "      <th>11</th>\n",
       "      <td>FsF-R1-01MD</td>\n",
       "      <td>Metadata specifies the content of the data.</td>\n",
       "      <td>4</td>\n",
       "    </tr>\n",
       "    <tr>\n",
       "      <th>12</th>\n",
       "      <td>FsF-R1.1-01M</td>\n",
       "      <td>Metadata includes license information under which data can be reused.</td>\n",
       "      <td>1</td>\n",
       "    </tr>\n",
       "    <tr>\n",
       "      <th>13</th>\n",
       "      <td>FsF-R1.2-01M</td>\n",
       "      <td>Metadata includes provenance information about data creation or generation.</td>\n",
       "      <td>2</td>\n",
       "    </tr>\n",
       "    <tr>\n",
       "      <th>14</th>\n",
       "      <td>FsF-R1.3-01M</td>\n",
       "      <td>Metadata follows a standard recommended by the target research community of the data.</td>\n",
       "      <td>1</td>\n",
       "    </tr>\n",
       "    <tr>\n",
       "      <th>15</th>\n",
       "      <td>FsF-R1.3-02D</td>\n",
       "      <td>Data is available in a file format recommended by the target research community.</td>\n",
       "      <td>1</td>\n",
       "    </tr>\n",
       "  </tbody>\n",
       "</table>\n",
       "</div>"
      ],
      "text/plain": [
       "   metric_identifier  \\\n",
       "0         FsF-F1-01D   \n",
       "1         FsF-F1-02D   \n",
       "2         FsF-F2-01M   \n",
       "3         FsF-F3-01M   \n",
       "4         FsF-F4-01M   \n",
       "5         FsF-A1-01M   \n",
       "6        FsF-A1-02MD   \n",
       "7         FsF-A2-01M   \n",
       "8         FsF-I1-01M   \n",
       "9         FsF-I1-02M   \n",
       "10        FsF-I3-01M   \n",
       "11       FsF-R1-01MD   \n",
       "12      FsF-R1.1-01M   \n",
       "13      FsF-R1.2-01M   \n",
       "14      FsF-R1.3-01M   \n",
       "15      FsF-R1.3-02D   \n",
       "\n",
       "                                                                                                                                                      metric_name  \\\n",
       "0                                                                                                                  Data is assigned a globally unique identifier.   \n",
       "1                                                                                                                       Data is assigned a persistent identifier.   \n",
       "2   Metadata includes descriptive core elements (creator, title, data identifier, publisher, publication date, summary and keywords) to support data findability.   \n",
       "3                                                                                                      Metadata includes the identifier of the data it describes.   \n",
       "4                                                                                    Metadata is offered in such a way that it can be retrieved programmatically.   \n",
       "5                                                                                               Metadata contains access level and access conditions of the data.   \n",
       "6                                                      Metadata as well as data are retrievable by their identifier using a standardized communications protocol.   \n",
       "7                                                                                            Metadata remains available, even if the data is no longer available.   \n",
       "8                                                                                       Metadata is represented using a formal knowledge representation language.   \n",
       "9                                                                                                                                Metadata uses semantic resources   \n",
       "10                                                                                             Metadata includes links between the data and its related entities.   \n",
       "11                                                                                                                    Metadata specifies the content of the data.   \n",
       "12                                                                                          Metadata includes license information under which data can be reused.   \n",
       "13                                                                                    Metadata includes provenance information about data creation or generation.   \n",
       "14                                                                          Metadata follows a standard recommended by the target research community of the data.   \n",
       "15                                                                               Data is available in a file format recommended by the target research community.   \n",
       "\n",
       "    total_score  \n",
       "0             1  \n",
       "1             1  \n",
       "2             2  \n",
       "3             1  \n",
       "4             2  \n",
       "5             1  \n",
       "6             2  \n",
       "7             1  \n",
       "8             2  \n",
       "9             1  \n",
       "10            1  \n",
       "11            4  \n",
       "12            1  \n",
       "13            2  \n",
       "14            1  \n",
       "15            1  "
      ]
     },
     "execution_count": 30,
     "metadata": {},
     "output_type": "execute_result"
    }
   ],
   "source": [
    "df_metrics = pd.DataFrame.from_dict(metrics)\n",
    "df_metrics"
   ]
  },
  {
   "cell_type": "markdown",
   "metadata": {},
   "source": [
    "Request phaidra italy records"
   ]
  },
  {
   "cell_type": "code",
   "execution_count": 31,
   "metadata": {},
   "outputs": [
    {
     "data": {
      "text/plain": [
       "'20201003'"
      ]
     },
     "execution_count": 31,
     "metadata": {},
     "output_type": "execute_result"
    }
   ],
   "source": [
    "datasets = []\n",
    "max_dataset = 1500\n",
    "oai_phaidra = 'https://fc.cab.unipd.it/oaiprovider/'\n",
    "timestr = time.strftime(\"%Y%m%d\")\n",
    "timestr"
   ]
  },
  {
   "cell_type": "code",
   "execution_count": 32,
   "metadata": {},
   "outputs": [],
   "source": [
    "oai_sets =[]\n",
    "registry = MetadataRegistry()\n",
    "registry.registerReader('oai_dc', oai_dc_reader)\n",
    "client = Client(oai_phaidra, registry)\n",
    "for s in client.listSets():\n",
    "    oai_sets.append(s[0])"
   ]
  },
  {
   "cell_type": "code",
   "execution_count": 33,
   "metadata": {},
   "outputs": [
    {
     "data": {
      "text/plain": [
       "['fisica',\n",
       " 'tavole-parietali-anonime',\n",
       " 'zoologische-wandtafeln-leuckart',\n",
       " 'zoologische-wandtafeln-leuckart-nitsche',\n",
       " 'zoologische-wandtafeln-pfurtscheller',\n",
       " 'collection-remy-perrier-cepede',\n",
       " 'BELF',\n",
       " 'PSMC']"
      ]
     },
     "execution_count": 33,
     "metadata": {},
     "output_type": "execute_result"
    }
   ],
   "source": [
    "oai_sets"
   ]
  },
  {
   "cell_type": "code",
   "execution_count": 34,
   "metadata": {},
   "outputs": [],
   "source": [
    "dataset_all = []\n",
    "datasets_wo_metadata = []"
   ]
  },
  {
   "cell_type": "code",
   "execution_count": 35,
   "metadata": {},
   "outputs": [
    {
     "name": "stdout",
     "output_type": "stream",
     "text": [
      "Wall time: 12min 40s\n"
     ]
    }
   ],
   "source": [
    "%%time\n",
    "#https://fc.cab.unipd.it/oaiprovider/?verb=ListRecords&metadataPrefix=oai_dc\n",
    "registry = MetadataRegistry()\n",
    "registry.registerReader('oai_dc', oai_dc_reader)\n",
    "client = Client(oai_phaidra, registry)\n",
    "for record in client.listRecords(metadataPrefix='oai_dc'):\n",
    "    localid =  record[0].identifier()\n",
    "    if record[1]:\n",
    "        metadata = record[1].getMap()\n",
    "        identifier = None\n",
    "        resource_type = None\n",
    "        rights = None\n",
    "        identifiers = [d for d in metadata['identifier'] if d.startswith('hdl:')]\n",
    "        alt_identifiers = [d for d in metadata['identifier'] if d.startswith('http')]\n",
    "        if identifiers:\n",
    "            identifier = identifiers[0].replace('hdl:','https://hdl.handle.net/')\n",
    "        else:\n",
    "            identifier = alt_identifiers[0]\n",
    "        data = {}\n",
    "        data['id']= localid\n",
    "        data['identifier'] = identifier\n",
    "        data['type']= metadata.get('type')[0]\n",
    "        data['rights']= metadata.get('rights')[0]\n",
    "        dataset_all.append(data)\n",
    "    else:\n",
    "        datasets_wo_metadata.append(record[0].identifier())"
   ]
  },
  {
   "cell_type": "code",
   "execution_count": 36,
   "metadata": {},
   "outputs": [
    {
     "data": {
      "text/plain": [
       "415900"
      ]
     },
     "execution_count": 36,
     "metadata": {},
     "output_type": "execute_result"
    }
   ],
   "source": [
    "len(dataset_all) #29896"
   ]
  },
  {
   "cell_type": "code",
   "execution_count": 37,
   "metadata": {},
   "outputs": [
    {
     "data": {
      "text/plain": [
       "663"
      ]
     },
     "execution_count": 37,
     "metadata": {},
     "output_type": "execute_result"
    }
   ],
   "source": [
    "len(datasets_wo_metadata)"
   ]
  },
  {
   "cell_type": "code",
   "execution_count": 38,
   "metadata": {},
   "outputs": [
    {
     "data": {
      "text/html": [
       "<div>\n",
       "<style scoped>\n",
       "    .dataframe tbody tr th:only-of-type {\n",
       "        vertical-align: middle;\n",
       "    }\n",
       "\n",
       "    .dataframe tbody tr th {\n",
       "        vertical-align: top;\n",
       "    }\n",
       "\n",
       "    .dataframe thead th {\n",
       "        text-align: right;\n",
       "    }\n",
       "</style>\n",
       "<table border=\"1\" class=\"dataframe\">\n",
       "  <thead>\n",
       "    <tr style=\"text-align: right;\">\n",
       "      <th></th>\n",
       "      <th>id</th>\n",
       "      <th>identifier</th>\n",
       "      <th>type</th>\n",
       "      <th>rights</th>\n",
       "    </tr>\n",
       "  </thead>\n",
       "  <tbody>\n",
       "    <tr>\n",
       "      <th>0</th>\n",
       "      <td>oai:cab.unipd.it:o:100000</td>\n",
       "      <td>https://phaidra.cab.unipd.it/o:100000</td>\n",
       "      <td>Page</td>\n",
       "      <td>http://creativecommons.org/licenses/by-nc-nd/4.0/legalcode</td>\n",
       "    </tr>\n",
       "    <tr>\n",
       "      <th>1</th>\n",
       "      <td>oai:cab.unipd.it:o:100001</td>\n",
       "      <td>https://phaidra.cab.unipd.it/o:100001</td>\n",
       "      <td>Page</td>\n",
       "      <td>http://creativecommons.org/licenses/by-nc-nd/4.0/legalcode</td>\n",
       "    </tr>\n",
       "    <tr>\n",
       "      <th>2</th>\n",
       "      <td>oai:cab.unipd.it:o:100002</td>\n",
       "      <td>https://phaidra.cab.unipd.it/o:100002</td>\n",
       "      <td>Page</td>\n",
       "      <td>http://creativecommons.org/licenses/by-nc-nd/4.0/legalcode</td>\n",
       "    </tr>\n",
       "    <tr>\n",
       "      <th>3</th>\n",
       "      <td>oai:cab.unipd.it:o:100003</td>\n",
       "      <td>https://phaidra.cab.unipd.it/o:100003</td>\n",
       "      <td>Page</td>\n",
       "      <td>http://creativecommons.org/licenses/by-nc-nd/4.0/legalcode</td>\n",
       "    </tr>\n",
       "    <tr>\n",
       "      <th>4</th>\n",
       "      <td>oai:cab.unipd.it:o:100004</td>\n",
       "      <td>https://phaidra.cab.unipd.it/o:100004</td>\n",
       "      <td>Page</td>\n",
       "      <td>http://creativecommons.org/licenses/by-nc-nd/4.0/legalcode</td>\n",
       "    </tr>\n",
       "  </tbody>\n",
       "</table>\n",
       "</div>"
      ],
      "text/plain": [
       "                          id                             identifier  type  \\\n",
       "0  oai:cab.unipd.it:o:100000  https://phaidra.cab.unipd.it/o:100000  Page   \n",
       "1  oai:cab.unipd.it:o:100001  https://phaidra.cab.unipd.it/o:100001  Page   \n",
       "2  oai:cab.unipd.it:o:100002  https://phaidra.cab.unipd.it/o:100002  Page   \n",
       "3  oai:cab.unipd.it:o:100003  https://phaidra.cab.unipd.it/o:100003  Page   \n",
       "4  oai:cab.unipd.it:o:100004  https://phaidra.cab.unipd.it/o:100004  Page   \n",
       "\n",
       "                                                       rights  \n",
       "0  http://creativecommons.org/licenses/by-nc-nd/4.0/legalcode  \n",
       "1  http://creativecommons.org/licenses/by-nc-nd/4.0/legalcode  \n",
       "2  http://creativecommons.org/licenses/by-nc-nd/4.0/legalcode  \n",
       "3  http://creativecommons.org/licenses/by-nc-nd/4.0/legalcode  \n",
       "4  http://creativecommons.org/licenses/by-nc-nd/4.0/legalcode  "
      ]
     },
     "execution_count": 38,
     "metadata": {},
     "output_type": "execute_result"
    }
   ],
   "source": [
    "#group datasets by type\n",
    "df = pd.DataFrame(dataset_all)\n",
    "df.head()"
   ]
  },
  {
   "cell_type": "code",
   "execution_count": 39,
   "metadata": {},
   "outputs": [
    {
     "data": {
      "text/plain": [
       "((0, 4), (0, 4))"
      ]
     },
     "execution_count": 39,
     "metadata": {},
     "output_type": "execute_result"
    }
   ],
   "source": [
    "df[df.identifier.isnull()].shape, df[df.id.isnull()].shape"
   ]
  },
  {
   "cell_type": "code",
   "execution_count": 40,
   "metadata": {},
   "outputs": [
    {
     "data": {
      "text/plain": [
       "array(['http://creativecommons.org/licenses/by-nc-nd/4.0/legalcode',\n",
       "       'All rights reserved',\n",
       "       'http://creativecommons.org/licenses/by-nc-sa/4.0/legalcode',\n",
       "       'http://creativecommons.org/licenses/by-nc-sa/2.0/it/legalcode',\n",
       "       'http://creativecommons.org/licenses/by-nc-nd/2.0/it/legalcode',\n",
       "       'http://creativecommons.org/licenses/by-sa/4.0/legalcode',\n",
       "       'http://creativecommons.org/licenses/by-nc/4.0/legalcode',\n",
       "       'http://creativecommons.org/licenses/by-nc/2.0/it/legalcode',\n",
       "       'http://creativecommons.org/licenses/by/4.0/legalcode',\n",
       "       'http://creativecommons.org/licenses/by/2.0/it/legalcode'],\n",
       "      dtype=object)"
      ]
     },
     "execution_count": 40,
     "metadata": {},
     "output_type": "execute_result"
    }
   ],
   "source": [
    "df.rights.unique()"
   ]
  },
  {
   "cell_type": "code",
   "execution_count": 41,
   "metadata": {},
   "outputs": [],
   "source": [
    "path_df =data_dir+'/'+'phaidraitaly_df_'+timestr+'.csv'\n",
    "df.to_csv(path_df, index = False)"
   ]
  },
  {
   "cell_type": "code",
   "execution_count": 42,
   "metadata": {},
   "outputs": [],
   "source": [
    "incomplete_file = data_dir+'/'+'phaidraitaly_incomplete_'+timestr+'.txt'\n",
    "with open(incomplete_file, 'w') as f:\n",
    "    for item in datasets_wo_metadata:\n",
    "        f.write(\"%s\\n\" % item)"
   ]
  },
  {
   "cell_type": "code",
   "execution_count": 43,
   "metadata": {},
   "outputs": [
    {
     "data": {
      "text/plain": [
       "type\n",
       "Book             1966\n",
       "Collection        921\n",
       "Image           21051\n",
       "MovingImage        44\n",
       "PDFDocument      5021\n",
       "Page           386889\n",
       "Unknown             8\n",
       "Name: id, dtype: int64"
      ]
     },
     "execution_count": 43,
     "metadata": {},
     "output_type": "execute_result"
    }
   ],
   "source": [
    "df.groupby('type')['id'].nunique()"
   ]
  },
  {
   "cell_type": "code",
   "execution_count": 44,
   "metadata": {},
   "outputs": [],
   "source": [
    "df_filter = df.loc[(df['type'] != 'Unknown') & (df['type'] != 'Page')]"
   ]
  },
  {
   "cell_type": "code",
   "execution_count": 45,
   "metadata": {},
   "outputs": [
    {
     "data": {
      "text/plain": [
       "(29003, 4)"
      ]
     },
     "execution_count": 45,
     "metadata": {},
     "output_type": "execute_result"
    }
   ],
   "source": [
    "df_filter.shape"
   ]
  },
  {
   "cell_type": "code",
   "execution_count": 46,
   "metadata": {},
   "outputs": [],
   "source": [
    "df_filter = df_filter.sample(n = max_dataset)"
   ]
  },
  {
   "cell_type": "code",
   "execution_count": 47,
   "metadata": {},
   "outputs": [
    {
     "data": {
      "text/plain": [
       "rights\n",
       "All rights reserved                                              590\n",
       "http://creativecommons.org/licenses/by-nc-nd/4.0/legalcode       102\n",
       "http://creativecommons.org/licenses/by-nc-sa/2.0/it/legalcode      2\n",
       "http://creativecommons.org/licenses/by-nc-sa/4.0/legalcode       618\n",
       "http://creativecommons.org/licenses/by-nc/4.0/legalcode           32\n",
       "http://creativecommons.org/licenses/by/4.0/legalcode             156\n",
       "Name: id, dtype: int64"
      ]
     },
     "execution_count": 47,
     "metadata": {},
     "output_type": "execute_result"
    }
   ],
   "source": [
    "df_filter.groupby('rights')['id'].nunique()"
   ]
  },
  {
   "cell_type": "code",
   "execution_count": 48,
   "metadata": {},
   "outputs": [
    {
     "data": {
      "text/plain": [
       "type\n",
       "Book            110\n",
       "Collection       52\n",
       "Image          1051\n",
       "MovingImage       4\n",
       "PDFDocument     283\n",
       "Name: id, dtype: int64"
      ]
     },
     "execution_count": 48,
     "metadata": {},
     "output_type": "execute_result"
    }
   ],
   "source": [
    "df_filter.groupby('type')['id'].nunique()"
   ]
  },
  {
   "cell_type": "code",
   "execution_count": 49,
   "metadata": {},
   "outputs": [],
   "source": [
    "datasets = df_filter['identifier'].tolist()"
   ]
  },
  {
   "cell_type": "code",
   "execution_count": 50,
   "metadata": {},
   "outputs": [
    {
     "data": {
      "text/plain": [
       "1500"
      ]
     },
     "execution_count": 50,
     "metadata": {},
     "output_type": "execute_result"
    }
   ],
   "source": [
    "len(datasets) #old 29894"
   ]
  },
  {
   "cell_type": "code",
   "execution_count": 51,
   "metadata": {},
   "outputs": [],
   "source": [
    "datalist_file = data_dir+'/'+'phaidraitaly_datasets_selected_'+timestr+'.txt'\n",
    "with open(datalist_file, 'w') as f:\n",
    "    for item in datasets:\n",
    "        f.write(\"%s\\n\" % item)"
   ]
  },
  {
   "cell_type": "code",
   "execution_count": 52,
   "metadata": {},
   "outputs": [
    {
     "data": {
      "text/plain": [
       "['https://hdl.handle.net/11168/11.10587',\n",
       " 'https://hdl.handle.net/11168/11.432843',\n",
       " 'https://hdl.handle.net/11168/11.355948',\n",
       " 'https://hdl.handle.net/11168/11.419813',\n",
       " 'https://hdl.handle.net/11168/11.1162']"
      ]
     },
     "execution_count": 52,
     "metadata": {},
     "output_type": "execute_result"
    }
   ],
   "source": [
    "datasets[:5]"
   ]
  },
  {
   "cell_type": "code",
   "execution_count": 53,
   "metadata": {},
   "outputs": [
    {
     "name": "stdout",
     "output_type": "stream",
     "text": [
      "Wall time: 2h 48min 34s\n"
     ]
    }
   ],
   "source": [
    "%%time \n",
    "all_records = []\n",
    "for d in datasets:\n",
    "    req = {'object_identifier':d, 'test_debug':True, 'oaipmh_endpoint':oai_phaidra}\n",
    "    r = requests.post(fuji_service, data=json.dumps(req), headers={'Content-Type': 'application/json'}, auth=('username', 'password'))\n",
    "    json_data = r.json()\n",
    "    records = {}\n",
    "    records['identifier'] = d\n",
    "    records['result'] = json_data.get('results')\n",
    "    all_records.append(records)"
   ]
  },
  {
   "cell_type": "code",
   "execution_count": 54,
   "metadata": {},
   "outputs": [],
   "source": [
    "file_name = data_dir+'/'+'phaidraitaly_'+timestr+'.json'\n",
    "with open(file_name, 'w') as f:\n",
    "    json.dump(all_records, f)"
   ]
  },
  {
   "cell_type": "code",
   "execution_count": 55,
   "metadata": {},
   "outputs": [],
   "source": [
    "#timestr ='20200908'\n",
    "#file_name ='results/phaidraitaly_'+timestr+'.json'\n",
    "with open(file_name) as json_file:\n",
    "    data = json.load(json_file)"
   ]
  },
  {
   "cell_type": "code",
   "execution_count": 56,
   "metadata": {},
   "outputs": [],
   "source": [
    "def get_assessment_result(id):\n",
    "    jsn = None\n",
    "    for data_dict in data:\n",
    "        if data_dict['identifier'] == id:\n",
    "            jsn = data_dict['result']\n",
    "    return jsn"
   ]
  },
  {
   "cell_type": "code",
   "execution_count": 57,
   "metadata": {},
   "outputs": [],
   "source": [
    "test_dataset ='https://hdl.handle.net/11168/11.436047'"
   ]
  },
  {
   "cell_type": "code",
   "execution_count": 58,
   "metadata": {},
   "outputs": [],
   "source": [
    "get_assessment_result(test_dataset)"
   ]
  },
  {
   "cell_type": "code",
   "execution_count": 59,
   "metadata": {
    "scrolled": true
   },
   "outputs": [],
   "source": [
    "final = []\n",
    "for data_dict in data:\n",
    "    results = {}\n",
    "    results['identifier'] = data_dict['identifier']\n",
    "    dd = data_dict['result'] # list of dict\n",
    "    #print(results['identifier'])\n",
    "    for d in dd:\n",
    "        metric_identifier = d['metric_identifier']\n",
    "        sub_principle = metric_identifier.split('-')[1]\n",
    "        principle = sub_principle[0]+'_earned'\n",
    "        principle_total = sub_principle[0]+'_total'\n",
    "        if not sub_principle in results:\n",
    "            results[sub_principle] = d['score']['earned']\n",
    "        else:\n",
    "            results[sub_principle] += d['score']['earned']\n",
    "        if not principle in results:\n",
    "            results[principle] = d['score']['earned']\n",
    "        else:\n",
    "            results[principle] += d['score']['earned']\n",
    "        if not principle_total in results:\n",
    "            results[principle_total] = d['score']['total']\n",
    "        else:\n",
    "            results[principle_total] += d['score']['total']\n",
    "    final.append(results)"
   ]
  },
  {
   "cell_type": "code",
   "execution_count": 60,
   "metadata": {},
   "outputs": [],
   "source": [
    "df_results = pd.DataFrame.from_dict(final)"
   ]
  },
  {
   "cell_type": "code",
   "execution_count": 61,
   "metadata": {},
   "outputs": [],
   "source": [
    "cols = ['identifier','F1','F2','F3','F4','A1','A1','I1','I3','R1','R1.1','R1.2','R1.3','F_earned','F_total','A_earned','A_total','I_earned','I_total','R_earned','R_total']\n",
    "df_results = df_results[cols]"
   ]
  },
  {
   "cell_type": "code",
   "execution_count": 62,
   "metadata": {},
   "outputs": [
    {
     "data": {
      "text/html": [
       "<div>\n",
       "<style scoped>\n",
       "    .dataframe tbody tr th:only-of-type {\n",
       "        vertical-align: middle;\n",
       "    }\n",
       "\n",
       "    .dataframe tbody tr th {\n",
       "        vertical-align: top;\n",
       "    }\n",
       "\n",
       "    .dataframe thead th {\n",
       "        text-align: right;\n",
       "    }\n",
       "</style>\n",
       "<table border=\"1\" class=\"dataframe\">\n",
       "  <thead>\n",
       "    <tr style=\"text-align: right;\">\n",
       "      <th></th>\n",
       "      <th>identifier</th>\n",
       "      <th>F1</th>\n",
       "      <th>F2</th>\n",
       "      <th>F3</th>\n",
       "      <th>F4</th>\n",
       "      <th>A1</th>\n",
       "      <th>A1</th>\n",
       "      <th>I1</th>\n",
       "      <th>I3</th>\n",
       "      <th>R1</th>\n",
       "      <th>...</th>\n",
       "      <th>R1.2</th>\n",
       "      <th>R1.3</th>\n",
       "      <th>F_earned</th>\n",
       "      <th>F_total</th>\n",
       "      <th>A_earned</th>\n",
       "      <th>A_total</th>\n",
       "      <th>I_earned</th>\n",
       "      <th>I_total</th>\n",
       "      <th>R_earned</th>\n",
       "      <th>R_total</th>\n",
       "    </tr>\n",
       "  </thead>\n",
       "  <tbody>\n",
       "    <tr>\n",
       "      <th>0</th>\n",
       "      <td>https://hdl.handle.net/11168/11.10587</td>\n",
       "      <td>2</td>\n",
       "      <td>0</td>\n",
       "      <td>0</td>\n",
       "      <td>0</td>\n",
       "      <td>0</td>\n",
       "      <td>0</td>\n",
       "      <td>0</td>\n",
       "      <td>0</td>\n",
       "      <td>0</td>\n",
       "      <td>...</td>\n",
       "      <td>0</td>\n",
       "      <td>0</td>\n",
       "      <td>2</td>\n",
       "      <td>7</td>\n",
       "      <td>0</td>\n",
       "      <td>1</td>\n",
       "      <td>0</td>\n",
       "      <td>4</td>\n",
       "      <td>0</td>\n",
       "      <td>9</td>\n",
       "    </tr>\n",
       "    <tr>\n",
       "      <th>1</th>\n",
       "      <td>https://hdl.handle.net/11168/11.432843</td>\n",
       "      <td>2</td>\n",
       "      <td>0</td>\n",
       "      <td>0</td>\n",
       "      <td>0</td>\n",
       "      <td>0</td>\n",
       "      <td>0</td>\n",
       "      <td>0</td>\n",
       "      <td>0</td>\n",
       "      <td>0</td>\n",
       "      <td>...</td>\n",
       "      <td>0</td>\n",
       "      <td>0</td>\n",
       "      <td>2</td>\n",
       "      <td>7</td>\n",
       "      <td>0</td>\n",
       "      <td>1</td>\n",
       "      <td>0</td>\n",
       "      <td>4</td>\n",
       "      <td>0</td>\n",
       "      <td>9</td>\n",
       "    </tr>\n",
       "    <tr>\n",
       "      <th>2</th>\n",
       "      <td>https://hdl.handle.net/11168/11.355948</td>\n",
       "      <td>2</td>\n",
       "      <td>0</td>\n",
       "      <td>0</td>\n",
       "      <td>0</td>\n",
       "      <td>0</td>\n",
       "      <td>0</td>\n",
       "      <td>0</td>\n",
       "      <td>0</td>\n",
       "      <td>0</td>\n",
       "      <td>...</td>\n",
       "      <td>0</td>\n",
       "      <td>0</td>\n",
       "      <td>2</td>\n",
       "      <td>7</td>\n",
       "      <td>0</td>\n",
       "      <td>1</td>\n",
       "      <td>0</td>\n",
       "      <td>4</td>\n",
       "      <td>0</td>\n",
       "      <td>9</td>\n",
       "    </tr>\n",
       "    <tr>\n",
       "      <th>3</th>\n",
       "      <td>https://hdl.handle.net/11168/11.419813</td>\n",
       "      <td>2</td>\n",
       "      <td>0</td>\n",
       "      <td>0</td>\n",
       "      <td>0</td>\n",
       "      <td>0</td>\n",
       "      <td>0</td>\n",
       "      <td>0</td>\n",
       "      <td>0</td>\n",
       "      <td>0</td>\n",
       "      <td>...</td>\n",
       "      <td>0</td>\n",
       "      <td>0</td>\n",
       "      <td>2</td>\n",
       "      <td>7</td>\n",
       "      <td>0</td>\n",
       "      <td>1</td>\n",
       "      <td>0</td>\n",
       "      <td>4</td>\n",
       "      <td>0</td>\n",
       "      <td>9</td>\n",
       "    </tr>\n",
       "    <tr>\n",
       "      <th>4</th>\n",
       "      <td>https://hdl.handle.net/11168/11.1162</td>\n",
       "      <td>2</td>\n",
       "      <td>0</td>\n",
       "      <td>0</td>\n",
       "      <td>0</td>\n",
       "      <td>0</td>\n",
       "      <td>0</td>\n",
       "      <td>0</td>\n",
       "      <td>0</td>\n",
       "      <td>0</td>\n",
       "      <td>...</td>\n",
       "      <td>0</td>\n",
       "      <td>0</td>\n",
       "      <td>2</td>\n",
       "      <td>7</td>\n",
       "      <td>0</td>\n",
       "      <td>1</td>\n",
       "      <td>0</td>\n",
       "      <td>4</td>\n",
       "      <td>0</td>\n",
       "      <td>9</td>\n",
       "    </tr>\n",
       "  </tbody>\n",
       "</table>\n",
       "<p>5 rows × 21 columns</p>\n",
       "</div>"
      ],
      "text/plain": [
       "                               identifier  F1  F2  F3  F4  A1  A1  I1  I3  R1  \\\n",
       "0   https://hdl.handle.net/11168/11.10587   2   0   0   0   0   0   0   0   0   \n",
       "1  https://hdl.handle.net/11168/11.432843   2   0   0   0   0   0   0   0   0   \n",
       "2  https://hdl.handle.net/11168/11.355948   2   0   0   0   0   0   0   0   0   \n",
       "3  https://hdl.handle.net/11168/11.419813   2   0   0   0   0   0   0   0   0   \n",
       "4    https://hdl.handle.net/11168/11.1162   2   0   0   0   0   0   0   0   0   \n",
       "\n",
       "   ...  R1.2  R1.3  F_earned  F_total  A_earned  A_total  I_earned  I_total  \\\n",
       "0  ...     0     0         2        7         0        1         0        4   \n",
       "1  ...     0     0         2        7         0        1         0        4   \n",
       "2  ...     0     0         2        7         0        1         0        4   \n",
       "3  ...     0     0         2        7         0        1         0        4   \n",
       "4  ...     0     0         2        7         0        1         0        4   \n",
       "\n",
       "   R_earned  R_total  \n",
       "0         0        9  \n",
       "1         0        9  \n",
       "2         0        9  \n",
       "3         0        9  \n",
       "4         0        9  \n",
       "\n",
       "[5 rows x 21 columns]"
      ]
     },
     "execution_count": 62,
     "metadata": {},
     "output_type": "execute_result"
    }
   ],
   "source": [
    "df_results.head()"
   ]
  },
  {
   "cell_type": "code",
   "execution_count": 63,
   "metadata": {},
   "outputs": [
    {
     "data": {
      "text/plain": [
       "identifier    https://hdl.handle.net/11168/11.10587\n",
       "F1                                                2\n",
       "F2                                                0\n",
       "F3                                                0\n",
       "F4                                                0\n",
       "A1                                                0\n",
       "A1                                                0\n",
       "I1                                                0\n",
       "I3                                                0\n",
       "R1                                                0\n",
       "R1.1                                              0\n",
       "R1.2                                              0\n",
       "R1.3                                              0\n",
       "F_earned                                          2\n",
       "F_total                                           7\n",
       "A_earned                                          0\n",
       "A_total                                           1\n",
       "I_earned                                          0\n",
       "I_total                                           4\n",
       "R_earned                                          0\n",
       "R_total                                           9\n",
       "Name: 0, dtype: object"
      ]
     },
     "execution_count": 63,
     "metadata": {},
     "output_type": "execute_result"
    }
   ],
   "source": [
    "df_results.iloc[0]"
   ]
  },
  {
   "cell_type": "code",
   "execution_count": 64,
   "metadata": {},
   "outputs": [],
   "source": [
    "df_results ['F_Principle'] = (df_results ['F_earned'] / df_results ['F_total'] ).round(2)\n",
    "df_results ['A_Principle'] = (df_results ['A_earned'] / df_results ['A_total'] ).round(2)\n",
    "df_results ['I_Principle'] = (df_results ['I_earned'] / df_results ['I_total'] ).round(2)\n",
    "df_results ['R_Principle' ]= (df_results ['R_earned'] / df_results ['R_total']).round(2)"
   ]
  },
  {
   "cell_type": "code",
   "execution_count": 65,
   "metadata": {},
   "outputs": [
    {
     "data": {
      "text/html": [
       "<div>\n",
       "<style scoped>\n",
       "    .dataframe tbody tr th:only-of-type {\n",
       "        vertical-align: middle;\n",
       "    }\n",
       "\n",
       "    .dataframe tbody tr th {\n",
       "        vertical-align: top;\n",
       "    }\n",
       "\n",
       "    .dataframe thead th {\n",
       "        text-align: right;\n",
       "    }\n",
       "</style>\n",
       "<table border=\"1\" class=\"dataframe\">\n",
       "  <thead>\n",
       "    <tr style=\"text-align: right;\">\n",
       "      <th></th>\n",
       "      <th>identifier</th>\n",
       "      <th>F1</th>\n",
       "      <th>F2</th>\n",
       "      <th>F3</th>\n",
       "      <th>F4</th>\n",
       "      <th>A1</th>\n",
       "      <th>A1</th>\n",
       "      <th>I1</th>\n",
       "      <th>I3</th>\n",
       "      <th>R1</th>\n",
       "      <th>...</th>\n",
       "      <th>A_earned</th>\n",
       "      <th>A_total</th>\n",
       "      <th>I_earned</th>\n",
       "      <th>I_total</th>\n",
       "      <th>R_earned</th>\n",
       "      <th>R_total</th>\n",
       "      <th>F_Principle</th>\n",
       "      <th>A_Principle</th>\n",
       "      <th>I_Principle</th>\n",
       "      <th>R_Principle</th>\n",
       "    </tr>\n",
       "  </thead>\n",
       "  <tbody>\n",
       "    <tr>\n",
       "      <th>0</th>\n",
       "      <td>https://hdl.handle.net/11168/11.10587</td>\n",
       "      <td>2</td>\n",
       "      <td>0</td>\n",
       "      <td>0</td>\n",
       "      <td>0</td>\n",
       "      <td>0</td>\n",
       "      <td>0</td>\n",
       "      <td>0</td>\n",
       "      <td>0</td>\n",
       "      <td>0</td>\n",
       "      <td>...</td>\n",
       "      <td>0</td>\n",
       "      <td>1</td>\n",
       "      <td>0</td>\n",
       "      <td>4</td>\n",
       "      <td>0</td>\n",
       "      <td>9</td>\n",
       "      <td>0.29</td>\n",
       "      <td>0.0</td>\n",
       "      <td>0.0</td>\n",
       "      <td>0.0</td>\n",
       "    </tr>\n",
       "    <tr>\n",
       "      <th>1</th>\n",
       "      <td>https://hdl.handle.net/11168/11.432843</td>\n",
       "      <td>2</td>\n",
       "      <td>0</td>\n",
       "      <td>0</td>\n",
       "      <td>0</td>\n",
       "      <td>0</td>\n",
       "      <td>0</td>\n",
       "      <td>0</td>\n",
       "      <td>0</td>\n",
       "      <td>0</td>\n",
       "      <td>...</td>\n",
       "      <td>0</td>\n",
       "      <td>1</td>\n",
       "      <td>0</td>\n",
       "      <td>4</td>\n",
       "      <td>0</td>\n",
       "      <td>9</td>\n",
       "      <td>0.29</td>\n",
       "      <td>0.0</td>\n",
       "      <td>0.0</td>\n",
       "      <td>0.0</td>\n",
       "    </tr>\n",
       "    <tr>\n",
       "      <th>2</th>\n",
       "      <td>https://hdl.handle.net/11168/11.355948</td>\n",
       "      <td>2</td>\n",
       "      <td>0</td>\n",
       "      <td>0</td>\n",
       "      <td>0</td>\n",
       "      <td>0</td>\n",
       "      <td>0</td>\n",
       "      <td>0</td>\n",
       "      <td>0</td>\n",
       "      <td>0</td>\n",
       "      <td>...</td>\n",
       "      <td>0</td>\n",
       "      <td>1</td>\n",
       "      <td>0</td>\n",
       "      <td>4</td>\n",
       "      <td>0</td>\n",
       "      <td>9</td>\n",
       "      <td>0.29</td>\n",
       "      <td>0.0</td>\n",
       "      <td>0.0</td>\n",
       "      <td>0.0</td>\n",
       "    </tr>\n",
       "    <tr>\n",
       "      <th>3</th>\n",
       "      <td>https://hdl.handle.net/11168/11.419813</td>\n",
       "      <td>2</td>\n",
       "      <td>0</td>\n",
       "      <td>0</td>\n",
       "      <td>0</td>\n",
       "      <td>0</td>\n",
       "      <td>0</td>\n",
       "      <td>0</td>\n",
       "      <td>0</td>\n",
       "      <td>0</td>\n",
       "      <td>...</td>\n",
       "      <td>0</td>\n",
       "      <td>1</td>\n",
       "      <td>0</td>\n",
       "      <td>4</td>\n",
       "      <td>0</td>\n",
       "      <td>9</td>\n",
       "      <td>0.29</td>\n",
       "      <td>0.0</td>\n",
       "      <td>0.0</td>\n",
       "      <td>0.0</td>\n",
       "    </tr>\n",
       "    <tr>\n",
       "      <th>4</th>\n",
       "      <td>https://hdl.handle.net/11168/11.1162</td>\n",
       "      <td>2</td>\n",
       "      <td>0</td>\n",
       "      <td>0</td>\n",
       "      <td>0</td>\n",
       "      <td>0</td>\n",
       "      <td>0</td>\n",
       "      <td>0</td>\n",
       "      <td>0</td>\n",
       "      <td>0</td>\n",
       "      <td>...</td>\n",
       "      <td>0</td>\n",
       "      <td>1</td>\n",
       "      <td>0</td>\n",
       "      <td>4</td>\n",
       "      <td>0</td>\n",
       "      <td>9</td>\n",
       "      <td>0.29</td>\n",
       "      <td>0.0</td>\n",
       "      <td>0.0</td>\n",
       "      <td>0.0</td>\n",
       "    </tr>\n",
       "  </tbody>\n",
       "</table>\n",
       "<p>5 rows × 25 columns</p>\n",
       "</div>"
      ],
      "text/plain": [
       "                               identifier  F1  F2  F3  F4  A1  A1  I1  I3  R1  \\\n",
       "0   https://hdl.handle.net/11168/11.10587   2   0   0   0   0   0   0   0   0   \n",
       "1  https://hdl.handle.net/11168/11.432843   2   0   0   0   0   0   0   0   0   \n",
       "2  https://hdl.handle.net/11168/11.355948   2   0   0   0   0   0   0   0   0   \n",
       "3  https://hdl.handle.net/11168/11.419813   2   0   0   0   0   0   0   0   0   \n",
       "4    https://hdl.handle.net/11168/11.1162   2   0   0   0   0   0   0   0   0   \n",
       "\n",
       "   ...  A_earned  A_total  I_earned  I_total  R_earned  R_total  F_Principle  \\\n",
       "0  ...         0        1         0        4         0        9         0.29   \n",
       "1  ...         0        1         0        4         0        9         0.29   \n",
       "2  ...         0        1         0        4         0        9         0.29   \n",
       "3  ...         0        1         0        4         0        9         0.29   \n",
       "4  ...         0        1         0        4         0        9         0.29   \n",
       "\n",
       "   A_Principle  I_Principle  R_Principle  \n",
       "0          0.0          0.0          0.0  \n",
       "1          0.0          0.0          0.0  \n",
       "2          0.0          0.0          0.0  \n",
       "3          0.0          0.0          0.0  \n",
       "4          0.0          0.0          0.0  \n",
       "\n",
       "[5 rows x 25 columns]"
      ]
     },
     "execution_count": 65,
     "metadata": {},
     "output_type": "execute_result"
    }
   ],
   "source": [
    "df_results.head()"
   ]
  },
  {
   "cell_type": "code",
   "execution_count": 66,
   "metadata": {},
   "outputs": [
    {
     "data": {
      "text/html": [
       "<div>\n",
       "<style scoped>\n",
       "    .dataframe tbody tr th:only-of-type {\n",
       "        vertical-align: middle;\n",
       "    }\n",
       "\n",
       "    .dataframe tbody tr th {\n",
       "        vertical-align: top;\n",
       "    }\n",
       "\n",
       "    .dataframe thead th {\n",
       "        text-align: right;\n",
       "    }\n",
       "</style>\n",
       "<table border=\"1\" class=\"dataframe\">\n",
       "  <thead>\n",
       "    <tr style=\"text-align: right;\">\n",
       "      <th></th>\n",
       "      <th>identifier</th>\n",
       "      <th>F_Principle</th>\n",
       "      <th>A_Principle</th>\n",
       "      <th>I_Principle</th>\n",
       "      <th>R_Principle</th>\n",
       "    </tr>\n",
       "  </thead>\n",
       "  <tbody>\n",
       "    <tr>\n",
       "      <th>0</th>\n",
       "      <td>https://hdl.handle.net/11168/11.10587</td>\n",
       "      <td>0.29</td>\n",
       "      <td>0.0</td>\n",
       "      <td>0.0</td>\n",
       "      <td>0.0</td>\n",
       "    </tr>\n",
       "    <tr>\n",
       "      <th>1</th>\n",
       "      <td>https://hdl.handle.net/11168/11.432843</td>\n",
       "      <td>0.29</td>\n",
       "      <td>0.0</td>\n",
       "      <td>0.0</td>\n",
       "      <td>0.0</td>\n",
       "    </tr>\n",
       "    <tr>\n",
       "      <th>2</th>\n",
       "      <td>https://hdl.handle.net/11168/11.355948</td>\n",
       "      <td>0.29</td>\n",
       "      <td>0.0</td>\n",
       "      <td>0.0</td>\n",
       "      <td>0.0</td>\n",
       "    </tr>\n",
       "    <tr>\n",
       "      <th>3</th>\n",
       "      <td>https://hdl.handle.net/11168/11.419813</td>\n",
       "      <td>0.29</td>\n",
       "      <td>0.0</td>\n",
       "      <td>0.0</td>\n",
       "      <td>0.0</td>\n",
       "    </tr>\n",
       "    <tr>\n",
       "      <th>4</th>\n",
       "      <td>https://hdl.handle.net/11168/11.1162</td>\n",
       "      <td>0.29</td>\n",
       "      <td>0.0</td>\n",
       "      <td>0.0</td>\n",
       "      <td>0.0</td>\n",
       "    </tr>\n",
       "    <tr>\n",
       "      <th>...</th>\n",
       "      <td>...</td>\n",
       "      <td>...</td>\n",
       "      <td>...</td>\n",
       "      <td>...</td>\n",
       "      <td>...</td>\n",
       "    </tr>\n",
       "    <tr>\n",
       "      <th>1495</th>\n",
       "      <td>https://hdl.handle.net/11168/11.3916</td>\n",
       "      <td>0.29</td>\n",
       "      <td>0.0</td>\n",
       "      <td>0.0</td>\n",
       "      <td>0.0</td>\n",
       "    </tr>\n",
       "    <tr>\n",
       "      <th>1496</th>\n",
       "      <td>https://hdl.handle.net/11168/11.1154</td>\n",
       "      <td>0.29</td>\n",
       "      <td>0.0</td>\n",
       "      <td>0.0</td>\n",
       "      <td>0.0</td>\n",
       "    </tr>\n",
       "    <tr>\n",
       "      <th>1497</th>\n",
       "      <td>https://hdl.handle.net/11168/11.386122</td>\n",
       "      <td>0.29</td>\n",
       "      <td>0.0</td>\n",
       "      <td>0.0</td>\n",
       "      <td>0.0</td>\n",
       "    </tr>\n",
       "    <tr>\n",
       "      <th>1498</th>\n",
       "      <td>https://hdl.handle.net/11168/11.8378</td>\n",
       "      <td>0.29</td>\n",
       "      <td>0.0</td>\n",
       "      <td>0.0</td>\n",
       "      <td>0.0</td>\n",
       "    </tr>\n",
       "    <tr>\n",
       "      <th>1499</th>\n",
       "      <td>https://hdl.handle.net/11168/11.385879</td>\n",
       "      <td>0.29</td>\n",
       "      <td>0.0</td>\n",
       "      <td>0.0</td>\n",
       "      <td>0.0</td>\n",
       "    </tr>\n",
       "  </tbody>\n",
       "</table>\n",
       "<p>1500 rows × 5 columns</p>\n",
       "</div>"
      ],
      "text/plain": [
       "                                  identifier  F_Principle  A_Principle  \\\n",
       "0      https://hdl.handle.net/11168/11.10587         0.29          0.0   \n",
       "1     https://hdl.handle.net/11168/11.432843         0.29          0.0   \n",
       "2     https://hdl.handle.net/11168/11.355948         0.29          0.0   \n",
       "3     https://hdl.handle.net/11168/11.419813         0.29          0.0   \n",
       "4       https://hdl.handle.net/11168/11.1162         0.29          0.0   \n",
       "...                                      ...          ...          ...   \n",
       "1495    https://hdl.handle.net/11168/11.3916         0.29          0.0   \n",
       "1496    https://hdl.handle.net/11168/11.1154         0.29          0.0   \n",
       "1497  https://hdl.handle.net/11168/11.386122         0.29          0.0   \n",
       "1498    https://hdl.handle.net/11168/11.8378         0.29          0.0   \n",
       "1499  https://hdl.handle.net/11168/11.385879         0.29          0.0   \n",
       "\n",
       "      I_Principle  R_Principle  \n",
       "0             0.0          0.0  \n",
       "1             0.0          0.0  \n",
       "2             0.0          0.0  \n",
       "3             0.0          0.0  \n",
       "4             0.0          0.0  \n",
       "...           ...          ...  \n",
       "1495          0.0          0.0  \n",
       "1496          0.0          0.0  \n",
       "1497          0.0          0.0  \n",
       "1498          0.0          0.0  \n",
       "1499          0.0          0.0  \n",
       "\n",
       "[1500 rows x 5 columns]"
      ]
     },
     "execution_count": 66,
     "metadata": {},
     "output_type": "execute_result"
    }
   ],
   "source": [
    "df_hist = df_results[['identifier','F_Principle','A_Principle','I_Principle','R_Principle']]\n",
    "df_hist"
   ]
  },
  {
   "cell_type": "code",
   "execution_count": 67,
   "metadata": {},
   "outputs": [
    {
     "data": {
      "text/plain": [
       "identifier     https://hdl.handle.net/11168/11.10587\n",
       "F_Principle                                     0.29\n",
       "A_Principle                                        0\n",
       "I_Principle                                        0\n",
       "R_Principle                                        0\n",
       "Name: 0, dtype: object"
      ]
     },
     "execution_count": 67,
     "metadata": {},
     "output_type": "execute_result"
    }
   ],
   "source": [
    "df_hist[df_hist.F_Principle <50].iloc[0]"
   ]
  },
  {
   "cell_type": "code",
   "execution_count": 68,
   "metadata": {},
   "outputs": [
    {
     "data": {
      "image/png": "[encoded data removed]",
      "text/plain": [
       "<Figure size 576x432 with 1 Axes>"
      ]
     },
     "metadata": {
      "needs_background": "light"
     },
     "output_type": "display_data"
    }
   ],
   "source": [
    "#timestr ='20200908'\n",
    "title = \"FAIR Scores of Phaidra Italy Datasets (n=\"+str(len(df_hist))+\")\"\n",
    "df_hist.plot.hist(sharex=True,sharey=True,alpha=0.65,figsize = (8,6), title=title)\n",
    "plt.xlabel('FAIR Score')\n",
    "fig_name = data_dir+'/'+'phaidraitaly_'+timestr+'.png'\n",
    "plt.savefig(fig_name)"
   ]
  },
  {
   "cell_type": "code",
   "execution_count": 69,
   "metadata": {},
   "outputs": [],
   "source": [
    "def histograms_plot(dataframe, features, rows, cols):\n",
    "    fig=plt.figure(figsize=(8,6))\n",
    "    # set palette \n",
    "    palette = itertools.cycle(sns.color_palette())\n",
    "    for i, feature in enumerate(features):\n",
    "        c = next(palette)\n",
    "        ax=fig.add_subplot(rows,cols,i+1)\n",
    "        dataframe[feature].plot.hist(bins=20, ax=ax, color=c, range=(0, 1.0))\n",
    "        ax.set_title(\"FAIR Score - \"+feature+ ' (n=' + str(len(df_hist))+')')\n",
    "        ax.set(xlabel=\"Score\", ylabel=\"Frequency\")\n",
    "    fig.subplots_adjust(top=1.4)\n",
    "    plt.show()\n",
    "    fig_name = data_dir+'/'+'sub_phaidraitaly_'+timestr+'.png'\n",
    "    plt.savefig(fig_name)"
   ]
  },
  {
   "cell_type": "code",
   "execution_count": 70,
   "metadata": {},
   "outputs": [
    {
     "data": {
      "image/png": "[encoded data removed]",
      "text/plain": [
       "<Figure size 576x432 with 4 Axes>"
      ]
     },
     "metadata": {
      "needs_background": "light"
     },
     "output_type": "display_data"
    },
    {
     "data": {
      "text/plain": [
       "<Figure size 432x288 with 0 Axes>"
      ]
     },
     "metadata": {},
     "output_type": "display_data"
    }
   ],
   "source": [
    "histograms_plot(df_hist,df_hist.columns[1:],2,2)"
   ]
  },
  {
   "cell_type": "code",
   "execution_count": null,
   "metadata": {},
   "outputs": [],
   "source": []
  },
  {
   "cell_type": "markdown",
   "metadata": {},
   "source": [
    "Findability"
   ]
  },
  {
   "cell_type": "code",
   "execution_count": 71,
   "metadata": {},
   "outputs": [
    {
     "data": {
      "text/html": [
       "<div>\n",
       "<style scoped>\n",
       "    .dataframe tbody tr th:only-of-type {\n",
       "        vertical-align: middle;\n",
       "    }\n",
       "\n",
       "    .dataframe tbody tr th {\n",
       "        vertical-align: top;\n",
       "    }\n",
       "\n",
       "    .dataframe thead th {\n",
       "        text-align: right;\n",
       "    }\n",
       "</style>\n",
       "<table border=\"1\" class=\"dataframe\">\n",
       "  <thead>\n",
       "    <tr style=\"text-align: right;\">\n",
       "      <th></th>\n",
       "      <th>identifier</th>\n",
       "      <th>F_Principle</th>\n",
       "      <th>A_Principle</th>\n",
       "      <th>I_Principle</th>\n",
       "      <th>R_Principle</th>\n",
       "    </tr>\n",
       "  </thead>\n",
       "  <tbody>\n",
       "    <tr>\n",
       "      <th>0</th>\n",
       "      <td>https://hdl.handle.net/11168/11.10587</td>\n",
       "      <td>0.29</td>\n",
       "      <td>0.0</td>\n",
       "      <td>0.0</td>\n",
       "      <td>0.0</td>\n",
       "    </tr>\n",
       "    <tr>\n",
       "      <th>1</th>\n",
       "      <td>https://hdl.handle.net/11168/11.432843</td>\n",
       "      <td>0.29</td>\n",
       "      <td>0.0</td>\n",
       "      <td>0.0</td>\n",
       "      <td>0.0</td>\n",
       "    </tr>\n",
       "    <tr>\n",
       "      <th>2</th>\n",
       "      <td>https://hdl.handle.net/11168/11.355948</td>\n",
       "      <td>0.29</td>\n",
       "      <td>0.0</td>\n",
       "      <td>0.0</td>\n",
       "      <td>0.0</td>\n",
       "    </tr>\n",
       "    <tr>\n",
       "      <th>3</th>\n",
       "      <td>https://hdl.handle.net/11168/11.419813</td>\n",
       "      <td>0.29</td>\n",
       "      <td>0.0</td>\n",
       "      <td>0.0</td>\n",
       "      <td>0.0</td>\n",
       "    </tr>\n",
       "    <tr>\n",
       "      <th>4</th>\n",
       "      <td>https://hdl.handle.net/11168/11.1162</td>\n",
       "      <td>0.29</td>\n",
       "      <td>0.0</td>\n",
       "      <td>0.0</td>\n",
       "      <td>0.0</td>\n",
       "    </tr>\n",
       "    <tr>\n",
       "      <th>...</th>\n",
       "      <td>...</td>\n",
       "      <td>...</td>\n",
       "      <td>...</td>\n",
       "      <td>...</td>\n",
       "      <td>...</td>\n",
       "    </tr>\n",
       "    <tr>\n",
       "      <th>1495</th>\n",
       "      <td>https://hdl.handle.net/11168/11.3916</td>\n",
       "      <td>0.29</td>\n",
       "      <td>0.0</td>\n",
       "      <td>0.0</td>\n",
       "      <td>0.0</td>\n",
       "    </tr>\n",
       "    <tr>\n",
       "      <th>1496</th>\n",
       "      <td>https://hdl.handle.net/11168/11.1154</td>\n",
       "      <td>0.29</td>\n",
       "      <td>0.0</td>\n",
       "      <td>0.0</td>\n",
       "      <td>0.0</td>\n",
       "    </tr>\n",
       "    <tr>\n",
       "      <th>1497</th>\n",
       "      <td>https://hdl.handle.net/11168/11.386122</td>\n",
       "      <td>0.29</td>\n",
       "      <td>0.0</td>\n",
       "      <td>0.0</td>\n",
       "      <td>0.0</td>\n",
       "    </tr>\n",
       "    <tr>\n",
       "      <th>1498</th>\n",
       "      <td>https://hdl.handle.net/11168/11.8378</td>\n",
       "      <td>0.29</td>\n",
       "      <td>0.0</td>\n",
       "      <td>0.0</td>\n",
       "      <td>0.0</td>\n",
       "    </tr>\n",
       "    <tr>\n",
       "      <th>1499</th>\n",
       "      <td>https://hdl.handle.net/11168/11.385879</td>\n",
       "      <td>0.29</td>\n",
       "      <td>0.0</td>\n",
       "      <td>0.0</td>\n",
       "      <td>0.0</td>\n",
       "    </tr>\n",
       "  </tbody>\n",
       "</table>\n",
       "<p>1500 rows × 5 columns</p>\n",
       "</div>"
      ],
      "text/plain": [
       "                                  identifier  F_Principle  A_Principle  \\\n",
       "0      https://hdl.handle.net/11168/11.10587         0.29          0.0   \n",
       "1     https://hdl.handle.net/11168/11.432843         0.29          0.0   \n",
       "2     https://hdl.handle.net/11168/11.355948         0.29          0.0   \n",
       "3     https://hdl.handle.net/11168/11.419813         0.29          0.0   \n",
       "4       https://hdl.handle.net/11168/11.1162         0.29          0.0   \n",
       "...                                      ...          ...          ...   \n",
       "1495    https://hdl.handle.net/11168/11.3916         0.29          0.0   \n",
       "1496    https://hdl.handle.net/11168/11.1154         0.29          0.0   \n",
       "1497  https://hdl.handle.net/11168/11.386122         0.29          0.0   \n",
       "1498    https://hdl.handle.net/11168/11.8378         0.29          0.0   \n",
       "1499  https://hdl.handle.net/11168/11.385879         0.29          0.0   \n",
       "\n",
       "      I_Principle  R_Principle  \n",
       "0             0.0          0.0  \n",
       "1             0.0          0.0  \n",
       "2             0.0          0.0  \n",
       "3             0.0          0.0  \n",
       "4             0.0          0.0  \n",
       "...           ...          ...  \n",
       "1495          0.0          0.0  \n",
       "1496          0.0          0.0  \n",
       "1497          0.0          0.0  \n",
       "1498          0.0          0.0  \n",
       "1499          0.0          0.0  \n",
       "\n",
       "[1500 rows x 5 columns]"
      ]
     },
     "execution_count": 71,
     "metadata": {},
     "output_type": "execute_result"
    }
   ],
   "source": [
    "df_hist[df_hist.F_Principle < 0.9]"
   ]
  },
  {
   "cell_type": "code",
   "execution_count": 72,
   "metadata": {},
   "outputs": [
    {
     "data": {
      "text/html": [
       "<div>\n",
       "<style scoped>\n",
       "    .dataframe tbody tr th:only-of-type {\n",
       "        vertical-align: middle;\n",
       "    }\n",
       "\n",
       "    .dataframe tbody tr th {\n",
       "        vertical-align: top;\n",
       "    }\n",
       "\n",
       "    .dataframe thead th {\n",
       "        text-align: right;\n",
       "    }\n",
       "</style>\n",
       "<table border=\"1\" class=\"dataframe\">\n",
       "  <thead>\n",
       "    <tr style=\"text-align: right;\">\n",
       "      <th></th>\n",
       "      <th>identifier</th>\n",
       "      <th>F_Principle</th>\n",
       "      <th>A_Principle</th>\n",
       "      <th>I_Principle</th>\n",
       "      <th>R_Principle</th>\n",
       "    </tr>\n",
       "  </thead>\n",
       "  <tbody>\n",
       "  </tbody>\n",
       "</table>\n",
       "</div>"
      ],
      "text/plain": [
       "Empty DataFrame\n",
       "Columns: [identifier, F_Principle, A_Principle, I_Principle, R_Principle]\n",
       "Index: []"
      ]
     },
     "execution_count": 72,
     "metadata": {},
     "output_type": "execute_result"
    }
   ],
   "source": [
    "df_hist[df_hist.F_Principle >= 0.9].head()"
   ]
  },
  {
   "cell_type": "markdown",
   "metadata": {},
   "source": [
    "Accessibility"
   ]
  },
  {
   "cell_type": "code",
   "execution_count": 73,
   "metadata": {},
   "outputs": [
    {
     "data": {
      "text/html": [
       "<div>\n",
       "<style scoped>\n",
       "    .dataframe tbody tr th:only-of-type {\n",
       "        vertical-align: middle;\n",
       "    }\n",
       "\n",
       "    .dataframe tbody tr th {\n",
       "        vertical-align: top;\n",
       "    }\n",
       "\n",
       "    .dataframe thead th {\n",
       "        text-align: right;\n",
       "    }\n",
       "</style>\n",
       "<table border=\"1\" class=\"dataframe\">\n",
       "  <thead>\n",
       "    <tr style=\"text-align: right;\">\n",
       "      <th></th>\n",
       "      <th>identifier</th>\n",
       "      <th>F_Principle</th>\n",
       "      <th>A_Principle</th>\n",
       "      <th>I_Principle</th>\n",
       "      <th>R_Principle</th>\n",
       "    </tr>\n",
       "  </thead>\n",
       "  <tbody>\n",
       "    <tr>\n",
       "      <th>0</th>\n",
       "      <td>https://hdl.handle.net/11168/11.10587</td>\n",
       "      <td>0.29</td>\n",
       "      <td>0.0</td>\n",
       "      <td>0.0</td>\n",
       "      <td>0.0</td>\n",
       "    </tr>\n",
       "    <tr>\n",
       "      <th>1</th>\n",
       "      <td>https://hdl.handle.net/11168/11.432843</td>\n",
       "      <td>0.29</td>\n",
       "      <td>0.0</td>\n",
       "      <td>0.0</td>\n",
       "      <td>0.0</td>\n",
       "    </tr>\n",
       "    <tr>\n",
       "      <th>2</th>\n",
       "      <td>https://hdl.handle.net/11168/11.355948</td>\n",
       "      <td>0.29</td>\n",
       "      <td>0.0</td>\n",
       "      <td>0.0</td>\n",
       "      <td>0.0</td>\n",
       "    </tr>\n",
       "    <tr>\n",
       "      <th>3</th>\n",
       "      <td>https://hdl.handle.net/11168/11.419813</td>\n",
       "      <td>0.29</td>\n",
       "      <td>0.0</td>\n",
       "      <td>0.0</td>\n",
       "      <td>0.0</td>\n",
       "    </tr>\n",
       "    <tr>\n",
       "      <th>4</th>\n",
       "      <td>https://hdl.handle.net/11168/11.1162</td>\n",
       "      <td>0.29</td>\n",
       "      <td>0.0</td>\n",
       "      <td>0.0</td>\n",
       "      <td>0.0</td>\n",
       "    </tr>\n",
       "  </tbody>\n",
       "</table>\n",
       "</div>"
      ],
      "text/plain": [
       "                               identifier  F_Principle  A_Principle  \\\n",
       "0   https://hdl.handle.net/11168/11.10587         0.29          0.0   \n",
       "1  https://hdl.handle.net/11168/11.432843         0.29          0.0   \n",
       "2  https://hdl.handle.net/11168/11.355948         0.29          0.0   \n",
       "3  https://hdl.handle.net/11168/11.419813         0.29          0.0   \n",
       "4    https://hdl.handle.net/11168/11.1162         0.29          0.0   \n",
       "\n",
       "   I_Principle  R_Principle  \n",
       "0          0.0          0.0  \n",
       "1          0.0          0.0  \n",
       "2          0.0          0.0  \n",
       "3          0.0          0.0  \n",
       "4          0.0          0.0  "
      ]
     },
     "execution_count": 73,
     "metadata": {},
     "output_type": "execute_result"
    }
   ],
   "source": [
    "df_hist[df_hist.A_Principle < 0.6].head()"
   ]
  },
  {
   "cell_type": "markdown",
   "metadata": {},
   "source": [
    "Interoperability"
   ]
  },
  {
   "cell_type": "code",
   "execution_count": 74,
   "metadata": {},
   "outputs": [
    {
     "data": {
      "text/html": [
       "<div>\n",
       "<style scoped>\n",
       "    .dataframe tbody tr th:only-of-type {\n",
       "        vertical-align: middle;\n",
       "    }\n",
       "\n",
       "    .dataframe tbody tr th {\n",
       "        vertical-align: top;\n",
       "    }\n",
       "\n",
       "    .dataframe thead th {\n",
       "        text-align: right;\n",
       "    }\n",
       "</style>\n",
       "<table border=\"1\" class=\"dataframe\">\n",
       "  <thead>\n",
       "    <tr style=\"text-align: right;\">\n",
       "      <th></th>\n",
       "      <th>identifier</th>\n",
       "      <th>F_Principle</th>\n",
       "      <th>A_Principle</th>\n",
       "      <th>I_Principle</th>\n",
       "      <th>R_Principle</th>\n",
       "    </tr>\n",
       "  </thead>\n",
       "  <tbody>\n",
       "    <tr>\n",
       "      <th>0</th>\n",
       "      <td>https://hdl.handle.net/11168/11.10587</td>\n",
       "      <td>0.29</td>\n",
       "      <td>0.0</td>\n",
       "      <td>0.0</td>\n",
       "      <td>0.0</td>\n",
       "    </tr>\n",
       "    <tr>\n",
       "      <th>1</th>\n",
       "      <td>https://hdl.handle.net/11168/11.432843</td>\n",
       "      <td>0.29</td>\n",
       "      <td>0.0</td>\n",
       "      <td>0.0</td>\n",
       "      <td>0.0</td>\n",
       "    </tr>\n",
       "    <tr>\n",
       "      <th>2</th>\n",
       "      <td>https://hdl.handle.net/11168/11.355948</td>\n",
       "      <td>0.29</td>\n",
       "      <td>0.0</td>\n",
       "      <td>0.0</td>\n",
       "      <td>0.0</td>\n",
       "    </tr>\n",
       "    <tr>\n",
       "      <th>3</th>\n",
       "      <td>https://hdl.handle.net/11168/11.419813</td>\n",
       "      <td>0.29</td>\n",
       "      <td>0.0</td>\n",
       "      <td>0.0</td>\n",
       "      <td>0.0</td>\n",
       "    </tr>\n",
       "    <tr>\n",
       "      <th>4</th>\n",
       "      <td>https://hdl.handle.net/11168/11.1162</td>\n",
       "      <td>0.29</td>\n",
       "      <td>0.0</td>\n",
       "      <td>0.0</td>\n",
       "      <td>0.0</td>\n",
       "    </tr>\n",
       "  </tbody>\n",
       "</table>\n",
       "</div>"
      ],
      "text/plain": [
       "                               identifier  F_Principle  A_Principle  \\\n",
       "0   https://hdl.handle.net/11168/11.10587         0.29          0.0   \n",
       "1  https://hdl.handle.net/11168/11.432843         0.29          0.0   \n",
       "2  https://hdl.handle.net/11168/11.355948         0.29          0.0   \n",
       "3  https://hdl.handle.net/11168/11.419813         0.29          0.0   \n",
       "4    https://hdl.handle.net/11168/11.1162         0.29          0.0   \n",
       "\n",
       "   I_Principle  R_Principle  \n",
       "0          0.0          0.0  \n",
       "1          0.0          0.0  \n",
       "2          0.0          0.0  \n",
       "3          0.0          0.0  \n",
       "4          0.0          0.0  "
      ]
     },
     "execution_count": 74,
     "metadata": {},
     "output_type": "execute_result"
    }
   ],
   "source": [
    "df_hist[df_hist.I_Principle < 0.6].head()"
   ]
  },
  {
   "cell_type": "code",
   "execution_count": 75,
   "metadata": {},
   "outputs": [
    {
     "data": {
      "text/html": [
       "<div>\n",
       "<style scoped>\n",
       "    .dataframe tbody tr th:only-of-type {\n",
       "        vertical-align: middle;\n",
       "    }\n",
       "\n",
       "    .dataframe tbody tr th {\n",
       "        vertical-align: top;\n",
       "    }\n",
       "\n",
       "    .dataframe thead th {\n",
       "        text-align: right;\n",
       "    }\n",
       "</style>\n",
       "<table border=\"1\" class=\"dataframe\">\n",
       "  <thead>\n",
       "    <tr style=\"text-align: right;\">\n",
       "      <th></th>\n",
       "      <th>identifier</th>\n",
       "      <th>F_Principle</th>\n",
       "      <th>A_Principle</th>\n",
       "      <th>I_Principle</th>\n",
       "      <th>R_Principle</th>\n",
       "    </tr>\n",
       "  </thead>\n",
       "  <tbody>\n",
       "  </tbody>\n",
       "</table>\n",
       "</div>"
      ],
      "text/plain": [
       "Empty DataFrame\n",
       "Columns: [identifier, F_Principle, A_Principle, I_Principle, R_Principle]\n",
       "Index: []"
      ]
     },
     "execution_count": 75,
     "metadata": {},
     "output_type": "execute_result"
    }
   ],
   "source": [
    "df_hist[df_hist.I_Principle > 0.6].head()"
   ]
  },
  {
   "cell_type": "markdown",
   "metadata": {},
   "source": [
    "Reusability"
   ]
  },
  {
   "cell_type": "code",
   "execution_count": 76,
   "metadata": {},
   "outputs": [
    {
     "data": {
      "text/html": [
       "<div>\n",
       "<style scoped>\n",
       "    .dataframe tbody tr th:only-of-type {\n",
       "        vertical-align: middle;\n",
       "    }\n",
       "\n",
       "    .dataframe tbody tr th {\n",
       "        vertical-align: top;\n",
       "    }\n",
       "\n",
       "    .dataframe thead th {\n",
       "        text-align: right;\n",
       "    }\n",
       "</style>\n",
       "<table border=\"1\" class=\"dataframe\">\n",
       "  <thead>\n",
       "    <tr style=\"text-align: right;\">\n",
       "      <th></th>\n",
       "      <th>identifier</th>\n",
       "      <th>F_Principle</th>\n",
       "      <th>A_Principle</th>\n",
       "      <th>I_Principle</th>\n",
       "      <th>R_Principle</th>\n",
       "    </tr>\n",
       "  </thead>\n",
       "  <tbody>\n",
       "    <tr>\n",
       "      <th>0</th>\n",
       "      <td>https://hdl.handle.net/11168/11.10587</td>\n",
       "      <td>0.29</td>\n",
       "      <td>0.0</td>\n",
       "      <td>0.0</td>\n",
       "      <td>0.0</td>\n",
       "    </tr>\n",
       "    <tr>\n",
       "      <th>1</th>\n",
       "      <td>https://hdl.handle.net/11168/11.432843</td>\n",
       "      <td>0.29</td>\n",
       "      <td>0.0</td>\n",
       "      <td>0.0</td>\n",
       "      <td>0.0</td>\n",
       "    </tr>\n",
       "    <tr>\n",
       "      <th>2</th>\n",
       "      <td>https://hdl.handle.net/11168/11.355948</td>\n",
       "      <td>0.29</td>\n",
       "      <td>0.0</td>\n",
       "      <td>0.0</td>\n",
       "      <td>0.0</td>\n",
       "    </tr>\n",
       "    <tr>\n",
       "      <th>3</th>\n",
       "      <td>https://hdl.handle.net/11168/11.419813</td>\n",
       "      <td>0.29</td>\n",
       "      <td>0.0</td>\n",
       "      <td>0.0</td>\n",
       "      <td>0.0</td>\n",
       "    </tr>\n",
       "    <tr>\n",
       "      <th>4</th>\n",
       "      <td>https://hdl.handle.net/11168/11.1162</td>\n",
       "      <td>0.29</td>\n",
       "      <td>0.0</td>\n",
       "      <td>0.0</td>\n",
       "      <td>0.0</td>\n",
       "    </tr>\n",
       "  </tbody>\n",
       "</table>\n",
       "</div>"
      ],
      "text/plain": [
       "                               identifier  F_Principle  A_Principle  \\\n",
       "0   https://hdl.handle.net/11168/11.10587         0.29          0.0   \n",
       "1  https://hdl.handle.net/11168/11.432843         0.29          0.0   \n",
       "2  https://hdl.handle.net/11168/11.355948         0.29          0.0   \n",
       "3  https://hdl.handle.net/11168/11.419813         0.29          0.0   \n",
       "4    https://hdl.handle.net/11168/11.1162         0.29          0.0   \n",
       "\n",
       "   I_Principle  R_Principle  \n",
       "0          0.0          0.0  \n",
       "1          0.0          0.0  \n",
       "2          0.0          0.0  \n",
       "3          0.0          0.0  \n",
       "4          0.0          0.0  "
      ]
     },
     "execution_count": 76,
     "metadata": {},
     "output_type": "execute_result"
    }
   ],
   "source": [
    "df_hist[df_hist.R_Principle < 0.4].head()"
   ]
  },
  {
   "cell_type": "code",
   "execution_count": 77,
   "metadata": {},
   "outputs": [
    {
     "data": {
      "text/html": [
       "<div>\n",
       "<style scoped>\n",
       "    .dataframe tbody tr th:only-of-type {\n",
       "        vertical-align: middle;\n",
       "    }\n",
       "\n",
       "    .dataframe tbody tr th {\n",
       "        vertical-align: top;\n",
       "    }\n",
       "\n",
       "    .dataframe thead th {\n",
       "        text-align: right;\n",
       "    }\n",
       "</style>\n",
       "<table border=\"1\" class=\"dataframe\">\n",
       "  <thead>\n",
       "    <tr style=\"text-align: right;\">\n",
       "      <th></th>\n",
       "      <th>identifier</th>\n",
       "      <th>F_Principle</th>\n",
       "      <th>A_Principle</th>\n",
       "      <th>I_Principle</th>\n",
       "      <th>R_Principle</th>\n",
       "    </tr>\n",
       "  </thead>\n",
       "  <tbody>\n",
       "  </tbody>\n",
       "</table>\n",
       "</div>"
      ],
      "text/plain": [
       "Empty DataFrame\n",
       "Columns: [identifier, F_Principle, A_Principle, I_Principle, R_Principle]\n",
       "Index: []"
      ]
     },
     "execution_count": 77,
     "metadata": {},
     "output_type": "execute_result"
    }
   ],
   "source": [
    "df_hist[df_hist.R_Principle > 0.6].head()"
   ]
  },
  {
   "cell_type": "code",
   "execution_count": 78,
   "metadata": {},
   "outputs": [
    {
     "data": {
      "text/html": [
       "<div>\n",
       "<style scoped>\n",
       "    .dataframe tbody tr th:only-of-type {\n",
       "        vertical-align: middle;\n",
       "    }\n",
       "\n",
       "    .dataframe tbody tr th {\n",
       "        vertical-align: top;\n",
       "    }\n",
       "\n",
       "    .dataframe thead th {\n",
       "        text-align: right;\n",
       "    }\n",
       "</style>\n",
       "<table border=\"1\" class=\"dataframe\">\n",
       "  <thead>\n",
       "    <tr style=\"text-align: right;\">\n",
       "      <th></th>\n",
       "      <th>identifier</th>\n",
       "      <th>F_Principle</th>\n",
       "      <th>A_Principle</th>\n",
       "      <th>I_Principle</th>\n",
       "      <th>R_Principle</th>\n",
       "    </tr>\n",
       "  </thead>\n",
       "  <tbody>\n",
       "    <tr>\n",
       "      <th>0</th>\n",
       "      <td>https://hdl.handle.net/11168/11.10587</td>\n",
       "      <td>0.29</td>\n",
       "      <td>0.0</td>\n",
       "      <td>0.0</td>\n",
       "      <td>0.0</td>\n",
       "    </tr>\n",
       "    <tr>\n",
       "      <th>1</th>\n",
       "      <td>https://hdl.handle.net/11168/11.432843</td>\n",
       "      <td>0.29</td>\n",
       "      <td>0.0</td>\n",
       "      <td>0.0</td>\n",
       "      <td>0.0</td>\n",
       "    </tr>\n",
       "    <tr>\n",
       "      <th>2</th>\n",
       "      <td>https://hdl.handle.net/11168/11.355948</td>\n",
       "      <td>0.29</td>\n",
       "      <td>0.0</td>\n",
       "      <td>0.0</td>\n",
       "      <td>0.0</td>\n",
       "    </tr>\n",
       "    <tr>\n",
       "      <th>3</th>\n",
       "      <td>https://hdl.handle.net/11168/11.419813</td>\n",
       "      <td>0.29</td>\n",
       "      <td>0.0</td>\n",
       "      <td>0.0</td>\n",
       "      <td>0.0</td>\n",
       "    </tr>\n",
       "    <tr>\n",
       "      <th>4</th>\n",
       "      <td>https://hdl.handle.net/11168/11.1162</td>\n",
       "      <td>0.29</td>\n",
       "      <td>0.0</td>\n",
       "      <td>0.0</td>\n",
       "      <td>0.0</td>\n",
       "    </tr>\n",
       "    <tr>\n",
       "      <th>...</th>\n",
       "      <td>...</td>\n",
       "      <td>...</td>\n",
       "      <td>...</td>\n",
       "      <td>...</td>\n",
       "      <td>...</td>\n",
       "    </tr>\n",
       "    <tr>\n",
       "      <th>1495</th>\n",
       "      <td>https://hdl.handle.net/11168/11.3916</td>\n",
       "      <td>0.29</td>\n",
       "      <td>0.0</td>\n",
       "      <td>0.0</td>\n",
       "      <td>0.0</td>\n",
       "    </tr>\n",
       "    <tr>\n",
       "      <th>1496</th>\n",
       "      <td>https://hdl.handle.net/11168/11.1154</td>\n",
       "      <td>0.29</td>\n",
       "      <td>0.0</td>\n",
       "      <td>0.0</td>\n",
       "      <td>0.0</td>\n",
       "    </tr>\n",
       "    <tr>\n",
       "      <th>1497</th>\n",
       "      <td>https://hdl.handle.net/11168/11.386122</td>\n",
       "      <td>0.29</td>\n",
       "      <td>0.0</td>\n",
       "      <td>0.0</td>\n",
       "      <td>0.0</td>\n",
       "    </tr>\n",
       "    <tr>\n",
       "      <th>1498</th>\n",
       "      <td>https://hdl.handle.net/11168/11.8378</td>\n",
       "      <td>0.29</td>\n",
       "      <td>0.0</td>\n",
       "      <td>0.0</td>\n",
       "      <td>0.0</td>\n",
       "    </tr>\n",
       "    <tr>\n",
       "      <th>1499</th>\n",
       "      <td>https://hdl.handle.net/11168/11.385879</td>\n",
       "      <td>0.29</td>\n",
       "      <td>0.0</td>\n",
       "      <td>0.0</td>\n",
       "      <td>0.0</td>\n",
       "    </tr>\n",
       "  </tbody>\n",
       "</table>\n",
       "<p>1500 rows × 5 columns</p>\n",
       "</div>"
      ],
      "text/plain": [
       "                                  identifier  F_Principle  A_Principle  \\\n",
       "0      https://hdl.handle.net/11168/11.10587         0.29          0.0   \n",
       "1     https://hdl.handle.net/11168/11.432843         0.29          0.0   \n",
       "2     https://hdl.handle.net/11168/11.355948         0.29          0.0   \n",
       "3     https://hdl.handle.net/11168/11.419813         0.29          0.0   \n",
       "4       https://hdl.handle.net/11168/11.1162         0.29          0.0   \n",
       "...                                      ...          ...          ...   \n",
       "1495    https://hdl.handle.net/11168/11.3916         0.29          0.0   \n",
       "1496    https://hdl.handle.net/11168/11.1154         0.29          0.0   \n",
       "1497  https://hdl.handle.net/11168/11.386122         0.29          0.0   \n",
       "1498    https://hdl.handle.net/11168/11.8378         0.29          0.0   \n",
       "1499  https://hdl.handle.net/11168/11.385879         0.29          0.0   \n",
       "\n",
       "      I_Principle  R_Principle  \n",
       "0             0.0          0.0  \n",
       "1             0.0          0.0  \n",
       "2             0.0          0.0  \n",
       "3             0.0          0.0  \n",
       "4             0.0          0.0  \n",
       "...           ...          ...  \n",
       "1495          0.0          0.0  \n",
       "1496          0.0          0.0  \n",
       "1497          0.0          0.0  \n",
       "1498          0.0          0.0  \n",
       "1499          0.0          0.0  \n",
       "\n",
       "[1500 rows x 5 columns]"
      ]
     },
     "execution_count": 78,
     "metadata": {},
     "output_type": "execute_result"
    }
   ],
   "source": [
    "df_hist[df_hist.R_Principle < 0.6]"
   ]
  },
  {
   "cell_type": "code",
   "execution_count": null,
   "metadata": {},
   "outputs": [],
   "source": []
  },
  {
   "cell_type": "code",
   "execution_count": null,
   "metadata": {},
   "outputs": [],
   "source": []
  },
  {
   "cell_type": "code",
   "execution_count": null,
   "metadata": {},
   "outputs": [],
   "source": []
  },
  {
   "cell_type": "code",
   "execution_count": null,
   "metadata": {},
   "outputs": [],
   "source": []
  }
 ],
 "metadata": {
  "kernelspec": {
   "display_name": "Python 3",
   "language": "python",
   "name": "python3"
  },
  "language_info": {
   "codemirror_mode": {
    "name": "ipython",
    "version": 3
   },
   "file_extension": ".py",
   "mimetype": "text/x-python",
   "name": "python",
   "nbconvert_exporter": "python",
   "pygments_lexer": "ipython3",
   "version": "3.8.5"
  }
 },
 "nbformat": 4,
 "nbformat_minor": 4
}
