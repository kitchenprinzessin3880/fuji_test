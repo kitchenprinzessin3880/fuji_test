{
 "cells": [
  {
   "cell_type": "code",
   "execution_count": 144,
   "metadata": {},
   "outputs": [],
   "source": [
    "import json\n",
    "import requests\n",
    "%matplotlib inline\n",
    "import numpy as np\n",
    "import matplotlib.pyplot as plt\n",
    "plt.rcParams['axes.grid'] = True\n",
    "import pandas as pd\n",
    "import seaborn as sns \n",
    "import itertools\n",
    "import collections\n",
    "import random\n",
    "import time"
   ]
  },
  {
   "cell_type": "code",
   "execution_count": 145,
   "metadata": {},
   "outputs": [],
   "source": [
    "data_dir = 'results'\n",
    "before = 'pangaea_20200804.json'"
   ]
  },
  {
   "cell_type": "code",
   "execution_count": 146,
   "metadata": {},
   "outputs": [],
   "source": [
    "def read_results(data):\n",
    "    final = []\n",
    "    for data_dict in data:\n",
    "        results = {}\n",
    "        results['identifier'] = data_dict['identifier']\n",
    "        dd = data_dict['result'] # list of dict\n",
    "        for d in dd:\n",
    "            metric_identifier = d.get('metric_identifier')\n",
    "            sub_principle = metric_identifier.split('-')[1]\n",
    "            principle = sub_principle[0]+'_earned'\n",
    "            principle_total = sub_principle[0]+'_total'\n",
    "            if not sub_principle in results:\n",
    "                results[sub_principle] = d['score']['earned']\n",
    "            else:\n",
    "                results[sub_principle] += d['score']['earned']\n",
    "            if not principle in results:\n",
    "                results[principle] = d['score']['earned']\n",
    "            else:\n",
    "                results[principle] += d['score']['earned']\n",
    "            if not principle_total in results:\n",
    "                results[principle_total] = d['score']['total']\n",
    "            else:\n",
    "                results[principle_total] += d['score']['total']\n",
    "        final.append(results)\n",
    "    \n",
    "    df_results = pd.DataFrame.from_dict(final)\n",
    "    cols = ['identifier','F1','F2','F3','F4','A1','A1','I1','I3','R1','R1.1','R1.2','R1.3','F_earned','F_total','A_earned','A_total','I_earned','I_total','R_earned','R_total']\n",
    "    df_results = df_results[cols]\n",
    "    \n",
    "    df_results ['F_Principle'] = (df_results ['F_earned'] / df_results ['F_total'] ).round(2)\n",
    "    df_results ['A_Principle'] = (df_results ['A_earned'] / df_results ['A_total'] ).round(2)\n",
    "    df_results ['I_Principle'] = (df_results ['I_earned'] / df_results ['I_total'] ).round(2)\n",
    "    df_results ['R_Principle' ]= (df_results ['R_earned'] / df_results ['R_total'] ).round(2)\n",
    "    df_results = df_results[['identifier','F_Principle','A_Principle','I_Principle','R_Principle']]\n",
    "    return df_results"
   ]
  },
  {
   "cell_type": "code",
   "execution_count": 161,
   "metadata": {},
   "outputs": [],
   "source": [
    "def histograms_plot(dataframe, features, rows, cols, figname, title):\n",
    "    fig=plt.figure(figsize=(20,4))\n",
    "    # set palette \n",
    "    palette = itertools.cycle(sns.color_palette())\n",
    "    for i, feature in enumerate(features):\n",
    "        c = next(palette)\n",
    "        ax=fig.add_subplot(rows,cols,i+1)\n",
    "        dataframe[feature].plot.hist(bins=20, ax=ax, color=c, range=(0, 1.0), align=\"right\")\n",
    "        ax.set_title(principles.get(feature))\n",
    "        ax.set(xlabel=\"Score\", ylabel=\"Frequency\")\n",
    "    fig.subplots_adjust(top=0.8)\n",
    "    plt.savefig(figname)\n",
    "    plt.suptitle(title,fontsize=15)\n",
    "    plt.show()"
   ]
  },
  {
   "cell_type": "code",
   "execution_count": 162,
   "metadata": {},
   "outputs": [],
   "source": [
    "principles = {}\n",
    "principles['F_Principle'] = 'Findability'\n",
    "principles['A_Principle'] = 'Accessibility'\n",
    "principles['I_Principle'] = 'Interoperability'\n",
    "principles['R_Principle'] = 'Reusability'\n",
    "\n",
    "timestr = time.strftime(\"%Y%m%d\")"
   ]
  },
  {
   "cell_type": "markdown",
   "metadata": {},
   "source": [
    "visualize score before improvement"
   ]
  },
  {
   "cell_type": "code",
   "execution_count": 163,
   "metadata": {},
   "outputs": [
    {
     "data": {
      "text/html": [
       "<div>\n",
       "<style scoped>\n",
       "    .dataframe tbody tr th:only-of-type {\n",
       "        vertical-align: middle;\n",
       "    }\n",
       "\n",
       "    .dataframe tbody tr th {\n",
       "        vertical-align: top;\n",
       "    }\n",
       "\n",
       "    .dataframe thead th {\n",
       "        text-align: right;\n",
       "    }\n",
       "</style>\n",
       "<table border=\"1\" class=\"dataframe\">\n",
       "  <thead>\n",
       "    <tr style=\"text-align: right;\">\n",
       "      <th></th>\n",
       "      <th>identifier</th>\n",
       "      <th>F_Principle</th>\n",
       "      <th>A_Principle</th>\n",
       "      <th>I_Principle</th>\n",
       "      <th>R_Principle</th>\n",
       "    </tr>\n",
       "  </thead>\n",
       "  <tbody>\n",
       "    <tr>\n",
       "      <th>0</th>\n",
       "      <td>https://doi.org/10.1594/PANGAEA.864717</td>\n",
       "      <td>0.86</td>\n",
       "      <td>0.0</td>\n",
       "      <td>0.75</td>\n",
       "      <td>0.78</td>\n",
       "    </tr>\n",
       "    <tr>\n",
       "      <th>1</th>\n",
       "      <td>https://doi.org/10.1594/PANGAEA.429817</td>\n",
       "      <td>0.86</td>\n",
       "      <td>0.0</td>\n",
       "      <td>0.75</td>\n",
       "      <td>0.78</td>\n",
       "    </tr>\n",
       "    <tr>\n",
       "      <th>2</th>\n",
       "      <td>https://doi.org/10.1594/PANGAEA.400185</td>\n",
       "      <td>0.86</td>\n",
       "      <td>0.0</td>\n",
       "      <td>0.75</td>\n",
       "      <td>0.78</td>\n",
       "    </tr>\n",
       "    <tr>\n",
       "      <th>3</th>\n",
       "      <td>https://doi.org/10.1594/PANGAEA.130277</td>\n",
       "      <td>0.86</td>\n",
       "      <td>0.0</td>\n",
       "      <td>0.75</td>\n",
       "      <td>0.78</td>\n",
       "    </tr>\n",
       "    <tr>\n",
       "      <th>4</th>\n",
       "      <td>https://doi.org/10.1594/PANGAEA.137862</td>\n",
       "      <td>0.86</td>\n",
       "      <td>0.0</td>\n",
       "      <td>0.75</td>\n",
       "      <td>0.78</td>\n",
       "    </tr>\n",
       "  </tbody>\n",
       "</table>\n",
       "</div>"
      ],
      "text/plain": [
       "                               identifier  F_Principle  A_Principle  \\\n",
       "0  https://doi.org/10.1594/PANGAEA.864717         0.86          0.0   \n",
       "1  https://doi.org/10.1594/PANGAEA.429817         0.86          0.0   \n",
       "2  https://doi.org/10.1594/PANGAEA.400185         0.86          0.0   \n",
       "3  https://doi.org/10.1594/PANGAEA.130277         0.86          0.0   \n",
       "4  https://doi.org/10.1594/PANGAEA.137862         0.86          0.0   \n",
       "\n",
       "   I_Principle  R_Principle  \n",
       "0         0.75         0.78  \n",
       "1         0.75         0.78  \n",
       "2         0.75         0.78  \n",
       "3         0.75         0.78  \n",
       "4         0.75         0.78  "
      ]
     },
     "execution_count": 163,
     "metadata": {},
     "output_type": "execute_result"
    }
   ],
   "source": [
    "with open(data_dir+'/'+before) as json_file:\n",
    "    before_data = json.load(json_file)\n",
    "df_before = read_results(before_data)\n",
    "df_before.head()"
   ]
  },
  {
   "cell_type": "code",
   "execution_count": 164,
   "metadata": {},
   "outputs": [
    {
     "data": {
      "image/png": "[encoded data removed]",
      "text/plain": [
       "<Figure size 1440x288 with 4 Axes>"
      ]
     },
     "metadata": {
      "needs_background": "light"
     },
     "output_type": "display_data"
    }
   ],
   "source": [
    "fig_name_before = data_dir+'/'+'sub_pangaea_before_'+timestr+'.png'\n",
    "title_before = 'FAIR Scores of PANGAEA Datasets By Principle (Before Improvement,'+ ' n=' + str(len(df_before))+')'\n",
    "histograms_plot(df_before, df_before.columns[1:], 1, 4, fig_name_before, title_before)"
   ]
  },
  {
   "cell_type": "markdown",
   "metadata": {},
   "source": [
    "Assess previous datasets"
   ]
  },
  {
   "cell_type": "code",
   "execution_count": 151,
   "metadata": {},
   "outputs": [],
   "source": [
    "datasets = df_before['identifier'].tolist()"
   ]
  },
  {
   "cell_type": "code",
   "execution_count": 152,
   "metadata": {},
   "outputs": [
    {
     "name": "stdout",
     "output_type": "stream",
     "text": [
      "Wall time: 41min 20s\n"
     ]
    }
   ],
   "source": [
    "%%time\n",
    "fuji_service = 'http://localhost:1071/fuji/api/v1/evaluate'\n",
    "after_data = []\n",
    "for d in datasets:\n",
    "    req = {'object_identifier':d, 'test_debug':True}\n",
    "    r = requests.post(fuji_service, data=json.dumps(req), headers={'Content-Type': 'application/json'}, auth=('username', 'password'))\n",
    "    json_data = r.json()\n",
    "    records = {}\n",
    "    records['identifier'] = d\n",
    "    records['result'] = json_data\n",
    "    after_data.append(records)"
   ]
  },
  {
   "cell_type": "code",
   "execution_count": 153,
   "metadata": {},
   "outputs": [],
   "source": [
    "file_name = data_dir+'/'+'pangaea_'+timestr+'.json'\n",
    "with open(file_name, 'w') as f:\n",
    "    json.dump(after_data, f)"
   ]
  },
  {
   "cell_type": "code",
   "execution_count": 154,
   "metadata": {},
   "outputs": [
    {
     "data": {
      "text/html": [
       "<div>\n",
       "<style scoped>\n",
       "    .dataframe tbody tr th:only-of-type {\n",
       "        vertical-align: middle;\n",
       "    }\n",
       "\n",
       "    .dataframe tbody tr th {\n",
       "        vertical-align: top;\n",
       "    }\n",
       "\n",
       "    .dataframe thead th {\n",
       "        text-align: right;\n",
       "    }\n",
       "</style>\n",
       "<table border=\"1\" class=\"dataframe\">\n",
       "  <thead>\n",
       "    <tr style=\"text-align: right;\">\n",
       "      <th></th>\n",
       "      <th>identifier</th>\n",
       "      <th>F_Principle</th>\n",
       "      <th>A_Principle</th>\n",
       "      <th>I_Principle</th>\n",
       "      <th>R_Principle</th>\n",
       "    </tr>\n",
       "  </thead>\n",
       "  <tbody>\n",
       "    <tr>\n",
       "      <th>0</th>\n",
       "      <td>https://doi.org/10.1594/PANGAEA.864717</td>\n",
       "      <td>0.86</td>\n",
       "      <td>1.0</td>\n",
       "      <td>0.75</td>\n",
       "      <td>0.89</td>\n",
       "    </tr>\n",
       "    <tr>\n",
       "      <th>1</th>\n",
       "      <td>https://doi.org/10.1594/PANGAEA.429817</td>\n",
       "      <td>0.86</td>\n",
       "      <td>1.0</td>\n",
       "      <td>0.75</td>\n",
       "      <td>0.89</td>\n",
       "    </tr>\n",
       "    <tr>\n",
       "      <th>2</th>\n",
       "      <td>https://doi.org/10.1594/PANGAEA.400185</td>\n",
       "      <td>0.86</td>\n",
       "      <td>1.0</td>\n",
       "      <td>0.75</td>\n",
       "      <td>0.89</td>\n",
       "    </tr>\n",
       "    <tr>\n",
       "      <th>3</th>\n",
       "      <td>https://doi.org/10.1594/PANGAEA.130277</td>\n",
       "      <td>0.86</td>\n",
       "      <td>1.0</td>\n",
       "      <td>0.75</td>\n",
       "      <td>0.89</td>\n",
       "    </tr>\n",
       "    <tr>\n",
       "      <th>4</th>\n",
       "      <td>https://doi.org/10.1594/PANGAEA.137862</td>\n",
       "      <td>0.86</td>\n",
       "      <td>1.0</td>\n",
       "      <td>0.75</td>\n",
       "      <td>0.89</td>\n",
       "    </tr>\n",
       "  </tbody>\n",
       "</table>\n",
       "</div>"
      ],
      "text/plain": [
       "                               identifier  F_Principle  A_Principle  \\\n",
       "0  https://doi.org/10.1594/PANGAEA.864717         0.86          1.0   \n",
       "1  https://doi.org/10.1594/PANGAEA.429817         0.86          1.0   \n",
       "2  https://doi.org/10.1594/PANGAEA.400185         0.86          1.0   \n",
       "3  https://doi.org/10.1594/PANGAEA.130277         0.86          1.0   \n",
       "4  https://doi.org/10.1594/PANGAEA.137862         0.86          1.0   \n",
       "\n",
       "   I_Principle  R_Principle  \n",
       "0         0.75         0.89  \n",
       "1         0.75         0.89  \n",
       "2         0.75         0.89  \n",
       "3         0.75         0.89  \n",
       "4         0.75         0.89  "
      ]
     },
     "execution_count": 154,
     "metadata": {},
     "output_type": "execute_result"
    }
   ],
   "source": [
    "file_name ='results/pangaea_20200807.json'\n",
    "with open(file_name) as json_file:\n",
    "    after_data = json.load(json_file)\n",
    "df_after = read_results(after_data)\n",
    "df_after.head()"
   ]
  },
  {
   "cell_type": "code",
   "execution_count": 155,
   "metadata": {},
   "outputs": [
    {
     "name": "stdout",
     "output_type": "stream",
     "text": [
      "same\n"
     ]
    }
   ],
   "source": [
    "b = df_before['identifier'].tolist()\n",
    "a = df_after['identifier'].tolist()\n",
    "\n",
    "if set(a) == set(b):\n",
    "    print('same')"
   ]
  },
  {
   "cell_type": "code",
   "execution_count": 156,
   "metadata": {},
   "outputs": [
    {
     "data": {
      "text/html": [
       "<div>\n",
       "<style scoped>\n",
       "    .dataframe tbody tr th:only-of-type {\n",
       "        vertical-align: middle;\n",
       "    }\n",
       "\n",
       "    .dataframe tbody tr th {\n",
       "        vertical-align: top;\n",
       "    }\n",
       "\n",
       "    .dataframe thead th {\n",
       "        text-align: right;\n",
       "    }\n",
       "</style>\n",
       "<table border=\"1\" class=\"dataframe\">\n",
       "  <thead>\n",
       "    <tr style=\"text-align: right;\">\n",
       "      <th></th>\n",
       "      <th>identifier</th>\n",
       "      <th>F_Principle</th>\n",
       "      <th>A_Principle</th>\n",
       "      <th>I_Principle</th>\n",
       "      <th>R_Principle</th>\n",
       "    </tr>\n",
       "  </thead>\n",
       "  <tbody>\n",
       "    <tr>\n",
       "      <th>0</th>\n",
       "      <td>https://doi.org/10.1594/PANGAEA.864717</td>\n",
       "      <td>0.86</td>\n",
       "      <td>1.0</td>\n",
       "      <td>0.75</td>\n",
       "      <td>0.89</td>\n",
       "    </tr>\n",
       "    <tr>\n",
       "      <th>1</th>\n",
       "      <td>https://doi.org/10.1594/PANGAEA.429817</td>\n",
       "      <td>0.86</td>\n",
       "      <td>1.0</td>\n",
       "      <td>0.75</td>\n",
       "      <td>0.89</td>\n",
       "    </tr>\n",
       "    <tr>\n",
       "      <th>2</th>\n",
       "      <td>https://doi.org/10.1594/PANGAEA.400185</td>\n",
       "      <td>0.86</td>\n",
       "      <td>1.0</td>\n",
       "      <td>0.75</td>\n",
       "      <td>0.89</td>\n",
       "    </tr>\n",
       "    <tr>\n",
       "      <th>3</th>\n",
       "      <td>https://doi.org/10.1594/PANGAEA.130277</td>\n",
       "      <td>0.86</td>\n",
       "      <td>1.0</td>\n",
       "      <td>0.75</td>\n",
       "      <td>0.89</td>\n",
       "    </tr>\n",
       "    <tr>\n",
       "      <th>4</th>\n",
       "      <td>https://doi.org/10.1594/PANGAEA.137862</td>\n",
       "      <td>0.86</td>\n",
       "      <td>1.0</td>\n",
       "      <td>0.75</td>\n",
       "      <td>0.89</td>\n",
       "    </tr>\n",
       "  </tbody>\n",
       "</table>\n",
       "</div>"
      ],
      "text/plain": [
       "                               identifier  F_Principle  A_Principle  \\\n",
       "0  https://doi.org/10.1594/PANGAEA.864717         0.86          1.0   \n",
       "1  https://doi.org/10.1594/PANGAEA.429817         0.86          1.0   \n",
       "2  https://doi.org/10.1594/PANGAEA.400185         0.86          1.0   \n",
       "3  https://doi.org/10.1594/PANGAEA.130277         0.86          1.0   \n",
       "4  https://doi.org/10.1594/PANGAEA.137862         0.86          1.0   \n",
       "\n",
       "   I_Principle  R_Principle  \n",
       "0         0.75         0.89  \n",
       "1         0.75         0.89  \n",
       "2         0.75         0.89  \n",
       "3         0.75         0.89  \n",
       "4         0.75         0.89  "
      ]
     },
     "execution_count": 156,
     "metadata": {},
     "output_type": "execute_result"
    }
   ],
   "source": [
    "df_after.head()"
   ]
  },
  {
   "cell_type": "code",
   "execution_count": 157,
   "metadata": {},
   "outputs": [
    {
     "data": {
      "text/html": [
       "<div>\n",
       "<style scoped>\n",
       "    .dataframe tbody tr th:only-of-type {\n",
       "        vertical-align: middle;\n",
       "    }\n",
       "\n",
       "    .dataframe tbody tr th {\n",
       "        vertical-align: top;\n",
       "    }\n",
       "\n",
       "    .dataframe thead th {\n",
       "        text-align: right;\n",
       "    }\n",
       "</style>\n",
       "<table border=\"1\" class=\"dataframe\">\n",
       "  <thead>\n",
       "    <tr style=\"text-align: right;\">\n",
       "      <th></th>\n",
       "      <th>identifier</th>\n",
       "      <th>F_Principle</th>\n",
       "      <th>A_Principle</th>\n",
       "      <th>I_Principle</th>\n",
       "      <th>R_Principle</th>\n",
       "    </tr>\n",
       "  </thead>\n",
       "  <tbody>\n",
       "  </tbody>\n",
       "</table>\n",
       "</div>"
      ],
      "text/plain": [
       "Empty DataFrame\n",
       "Columns: [identifier, F_Principle, A_Principle, I_Principle, R_Principle]\n",
       "Index: []"
      ]
     },
     "execution_count": 157,
     "metadata": {},
     "output_type": "execute_result"
    }
   ],
   "source": [
    "df_after[df_after.F_Principle<0.8]"
   ]
  },
  {
   "cell_type": "code",
   "execution_count": 158,
   "metadata": {},
   "outputs": [
    {
     "data": {
      "text/html": [
       "<div>\n",
       "<style scoped>\n",
       "    .dataframe tbody tr th:only-of-type {\n",
       "        vertical-align: middle;\n",
       "    }\n",
       "\n",
       "    .dataframe tbody tr th {\n",
       "        vertical-align: top;\n",
       "    }\n",
       "\n",
       "    .dataframe thead th {\n",
       "        text-align: right;\n",
       "    }\n",
       "</style>\n",
       "<table border=\"1\" class=\"dataframe\">\n",
       "  <thead>\n",
       "    <tr style=\"text-align: right;\">\n",
       "      <th></th>\n",
       "      <th>identifier</th>\n",
       "      <th>F_Principle</th>\n",
       "      <th>A_Principle</th>\n",
       "      <th>I_Principle</th>\n",
       "      <th>R_Principle</th>\n",
       "    </tr>\n",
       "  </thead>\n",
       "  <tbody>\n",
       "    <tr>\n",
       "      <th>305</th>\n",
       "      <td>https://doi.org/10.1594/PANGAEA.398005</td>\n",
       "      <td>1.0</td>\n",
       "      <td>0.0</td>\n",
       "      <td>0.75</td>\n",
       "      <td>0.78</td>\n",
       "    </tr>\n",
       "  </tbody>\n",
       "</table>\n",
       "</div>"
      ],
      "text/plain": [
       "                                 identifier  F_Principle  A_Principle  \\\n",
       "305  https://doi.org/10.1594/PANGAEA.398005          1.0          0.0   \n",
       "\n",
       "     I_Principle  R_Principle  \n",
       "305         0.75         0.78  "
      ]
     },
     "execution_count": 158,
     "metadata": {},
     "output_type": "execute_result"
    }
   ],
   "source": [
    "df_before[df_before.identifier=='https://doi.org/10.1594/PANGAEA.398005']"
   ]
  },
  {
   "cell_type": "markdown",
   "metadata": {},
   "source": [
    "visualize score after improvement"
   ]
  },
  {
   "cell_type": "code",
   "execution_count": 159,
   "metadata": {},
   "outputs": [
    {
     "data": {
      "text/html": [
       "<div>\n",
       "<style scoped>\n",
       "    .dataframe tbody tr th:only-of-type {\n",
       "        vertical-align: middle;\n",
       "    }\n",
       "\n",
       "    .dataframe tbody tr th {\n",
       "        vertical-align: top;\n",
       "    }\n",
       "\n",
       "    .dataframe thead th {\n",
       "        text-align: right;\n",
       "    }\n",
       "</style>\n",
       "<table border=\"1\" class=\"dataframe\">\n",
       "  <thead>\n",
       "    <tr style=\"text-align: right;\">\n",
       "      <th></th>\n",
       "      <th>identifier</th>\n",
       "      <th>F_Principle</th>\n",
       "      <th>A_Principle</th>\n",
       "      <th>I_Principle</th>\n",
       "      <th>R_Principle</th>\n",
       "    </tr>\n",
       "  </thead>\n",
       "  <tbody>\n",
       "    <tr>\n",
       "      <th>0</th>\n",
       "      <td>https://doi.org/10.1594/PANGAEA.864717</td>\n",
       "      <td>0.86</td>\n",
       "      <td>1.0</td>\n",
       "      <td>0.75</td>\n",
       "      <td>0.89</td>\n",
       "    </tr>\n",
       "    <tr>\n",
       "      <th>1</th>\n",
       "      <td>https://doi.org/10.1594/PANGAEA.429817</td>\n",
       "      <td>0.86</td>\n",
       "      <td>1.0</td>\n",
       "      <td>0.75</td>\n",
       "      <td>0.89</td>\n",
       "    </tr>\n",
       "    <tr>\n",
       "      <th>2</th>\n",
       "      <td>https://doi.org/10.1594/PANGAEA.400185</td>\n",
       "      <td>0.86</td>\n",
       "      <td>1.0</td>\n",
       "      <td>0.75</td>\n",
       "      <td>0.89</td>\n",
       "    </tr>\n",
       "    <tr>\n",
       "      <th>3</th>\n",
       "      <td>https://doi.org/10.1594/PANGAEA.130277</td>\n",
       "      <td>0.86</td>\n",
       "      <td>1.0</td>\n",
       "      <td>0.75</td>\n",
       "      <td>0.89</td>\n",
       "    </tr>\n",
       "    <tr>\n",
       "      <th>4</th>\n",
       "      <td>https://doi.org/10.1594/PANGAEA.137862</td>\n",
       "      <td>0.86</td>\n",
       "      <td>1.0</td>\n",
       "      <td>0.75</td>\n",
       "      <td>0.89</td>\n",
       "    </tr>\n",
       "  </tbody>\n",
       "</table>\n",
       "</div>"
      ],
      "text/plain": [
       "                               identifier  F_Principle  A_Principle  \\\n",
       "0  https://doi.org/10.1594/PANGAEA.864717         0.86          1.0   \n",
       "1  https://doi.org/10.1594/PANGAEA.429817         0.86          1.0   \n",
       "2  https://doi.org/10.1594/PANGAEA.400185         0.86          1.0   \n",
       "3  https://doi.org/10.1594/PANGAEA.130277         0.86          1.0   \n",
       "4  https://doi.org/10.1594/PANGAEA.137862         0.86          1.0   \n",
       "\n",
       "   I_Principle  R_Principle  \n",
       "0         0.75         0.89  \n",
       "1         0.75         0.89  \n",
       "2         0.75         0.89  \n",
       "3         0.75         0.89  \n",
       "4         0.75         0.89  "
      ]
     },
     "execution_count": 159,
     "metadata": {},
     "output_type": "execute_result"
    }
   ],
   "source": [
    "with open(file_name) as json_file:\n",
    "    data = json.load(json_file)\n",
    "\n",
    "df_after = read_results(data)\n",
    "df_after.head()"
   ]
  },
  {
   "cell_type": "code",
   "execution_count": 160,
   "metadata": {},
   "outputs": [
    {
     "data": {
      "image/png": "[encoded data removed]",
      "text/plain": [
       "<Figure size 1440x288 with 4 Axes>"
      ]
     },
     "metadata": {
      "needs_background": "light"
     },
     "output_type": "display_data"
    }
   ],
   "source": [
    "fig_name_after = data_dir+'/'+'sub_pangaea_after_'+timestr+'.png'\n",
    "title_after = 'FAIR Scores of PANGAEA Datasets By Principle (After Improvement,'+ ' n=' + str(len(df_after))+')'\n",
    "histograms_plot(df_after, df_after.columns[1:], 1, 4, fig_name_after, title_after)"
   ]
  },
  {
   "cell_type": "code",
   "execution_count": null,
   "metadata": {},
   "outputs": [],
   "source": []
  }
 ],
 "metadata": {
  "kernelspec": {
   "display_name": "Python 3",
   "language": "python",
   "name": "python3"
  },
  "language_info": {
   "codemirror_mode": {
    "name": "ipython",
    "version": 3
   },
   "file_extension": ".py",
   "mimetype": "text/x-python",
   "name": "python",
   "nbconvert_exporter": "python",
   "pygments_lexer": "ipython3",
   "version": "3.8.5"
  }
 },
 "nbformat": 4,
 "nbformat_minor": 4
}
