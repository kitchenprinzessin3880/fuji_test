{
 "cells": [
  {
   "cell_type": "code",
   "execution_count": 14,
   "metadata": {},
   "outputs": [],
   "source": [
    "import json\n",
    "import requests\n",
    "%matplotlib inline\n",
    "import numpy as np\n",
    "import matplotlib.pyplot as plt\n",
    "plt.rcParams['axes.grid'] = True\n",
    "import pandas as pd\n",
    "import seaborn as sns \n",
    "import itertools\n",
    "import time\n",
    "from oaipmh.client import Client\n",
    "from oaipmh.metadata import MetadataRegistry, oai_dc_reader\n",
    "import random\n",
    "pd.set_option('display.max_colwidth', None)"
   ]
  },
  {
   "cell_type": "code",
   "execution_count": 15,
   "metadata": {},
   "outputs": [],
   "source": [
    "fuji_service = 'http://localhost:1071/fuji/api/v1/evaluate'\n",
    "data_dir = 'results'"
   ]
  },
  {
   "cell_type": "markdown",
   "metadata": {},
   "source": [
    "Request metric defs"
   ]
  },
  {
   "cell_type": "code",
   "execution_count": 16,
   "metadata": {},
   "outputs": [],
   "source": [
    "metrics = []\n",
    "try:\n",
    "    request = requests.get('http://localhost:1071/fuji/api/v1/metrics',headers={'Content-Type': 'application/json'}, auth=('username', 'password'))\n",
    "    mm = request.json()['metrics']\n",
    "    for m in mm:\n",
    "        metrics.append({k: m[k] for k in ('metric_identifier', 'metric_name', 'total_score')})\n",
    "except requests.exceptions.RequestException as e:\n",
    "    print(e)\n",
    "except requests.exceptions.ConnectionError as e1:\n",
    "    print(e1)"
   ]
  },
  {
   "cell_type": "code",
   "execution_count": 17,
   "metadata": {},
   "outputs": [
    {
     "data": {
      "text/html": [
       "<div>\n",
       "<style scoped>\n",
       "    .dataframe tbody tr th:only-of-type {\n",
       "        vertical-align: middle;\n",
       "    }\n",
       "\n",
       "    .dataframe tbody tr th {\n",
       "        vertical-align: top;\n",
       "    }\n",
       "\n",
       "    .dataframe thead th {\n",
       "        text-align: right;\n",
       "    }\n",
       "</style>\n",
       "<table border=\"1\" class=\"dataframe\">\n",
       "  <thead>\n",
       "    <tr style=\"text-align: right;\">\n",
       "      <th></th>\n",
       "      <th>metric_identifier</th>\n",
       "      <th>metric_name</th>\n",
       "      <th>total_score</th>\n",
       "    </tr>\n",
       "  </thead>\n",
       "  <tbody>\n",
       "    <tr>\n",
       "      <th>0</th>\n",
       "      <td>FsF-F1-01D</td>\n",
       "      <td>Data is assigned a globally unique identifier.</td>\n",
       "      <td>1</td>\n",
       "    </tr>\n",
       "    <tr>\n",
       "      <th>1</th>\n",
       "      <td>FsF-F1-02D</td>\n",
       "      <td>Data is assigned a persistent identifier.</td>\n",
       "      <td>1</td>\n",
       "    </tr>\n",
       "    <tr>\n",
       "      <th>2</th>\n",
       "      <td>FsF-F2-01M</td>\n",
       "      <td>Metadata includes descriptive core elements (creator, title, data identifier, publisher, publication date, summary and keywords) to support data findability.</td>\n",
       "      <td>2</td>\n",
       "    </tr>\n",
       "    <tr>\n",
       "      <th>3</th>\n",
       "      <td>FsF-F3-01M</td>\n",
       "      <td>Metadata includes the identifier of the data it describes.</td>\n",
       "      <td>1</td>\n",
       "    </tr>\n",
       "    <tr>\n",
       "      <th>4</th>\n",
       "      <td>FsF-F4-01M</td>\n",
       "      <td>Metadata is offered in such a way that it can be retrieved programmatically.</td>\n",
       "      <td>2</td>\n",
       "    </tr>\n",
       "    <tr>\n",
       "      <th>5</th>\n",
       "      <td>FsF-A1-01M</td>\n",
       "      <td>Metadata contains access level and access conditions of the data.</td>\n",
       "      <td>1</td>\n",
       "    </tr>\n",
       "    <tr>\n",
       "      <th>6</th>\n",
       "      <td>FsF-A1-02MD</td>\n",
       "      <td>Metadata as well as data are retrievable by their identifier using a standardized communications protocol.</td>\n",
       "      <td>2</td>\n",
       "    </tr>\n",
       "    <tr>\n",
       "      <th>7</th>\n",
       "      <td>FsF-A2-01M</td>\n",
       "      <td>Metadata remains available, even if the data is no longer available.</td>\n",
       "      <td>1</td>\n",
       "    </tr>\n",
       "    <tr>\n",
       "      <th>8</th>\n",
       "      <td>FsF-I1-01M</td>\n",
       "      <td>Metadata is represented using a formal knowledge representation language.</td>\n",
       "      <td>2</td>\n",
       "    </tr>\n",
       "    <tr>\n",
       "      <th>9</th>\n",
       "      <td>FsF-I1-02M</td>\n",
       "      <td>Metadata uses semantic resources</td>\n",
       "      <td>1</td>\n",
       "    </tr>\n",
       "    <tr>\n",
       "      <th>10</th>\n",
       "      <td>FsF-I3-01M</td>\n",
       "      <td>Metadata includes links between the data and its related entities.</td>\n",
       "      <td>1</td>\n",
       "    </tr>\n",
       "    <tr>\n",
       "      <th>11</th>\n",
       "      <td>FsF-R1-01MD</td>\n",
       "      <td>Metadata specifies the content of the data.</td>\n",
       "      <td>4</td>\n",
       "    </tr>\n",
       "    <tr>\n",
       "      <th>12</th>\n",
       "      <td>FsF-R1.1-01M</td>\n",
       "      <td>Metadata includes license information under which data can be reused.</td>\n",
       "      <td>1</td>\n",
       "    </tr>\n",
       "    <tr>\n",
       "      <th>13</th>\n",
       "      <td>FsF-R1.2-01M</td>\n",
       "      <td>Metadata includes provenance information about data creation or generation.</td>\n",
       "      <td>2</td>\n",
       "    </tr>\n",
       "    <tr>\n",
       "      <th>14</th>\n",
       "      <td>FsF-R1.3-01M</td>\n",
       "      <td>Metadata follows a standard recommended by the target research community of the data.</td>\n",
       "      <td>1</td>\n",
       "    </tr>\n",
       "    <tr>\n",
       "      <th>15</th>\n",
       "      <td>FsF-R1.3-02D</td>\n",
       "      <td>Data is available in a file format recommended by the target research community.</td>\n",
       "      <td>1</td>\n",
       "    </tr>\n",
       "  </tbody>\n",
       "</table>\n",
       "</div>"
      ],
      "text/plain": [
       "   metric_identifier  \\\n",
       "0         FsF-F1-01D   \n",
       "1         FsF-F1-02D   \n",
       "2         FsF-F2-01M   \n",
       "3         FsF-F3-01M   \n",
       "4         FsF-F4-01M   \n",
       "5         FsF-A1-01M   \n",
       "6        FsF-A1-02MD   \n",
       "7         FsF-A2-01M   \n",
       "8         FsF-I1-01M   \n",
       "9         FsF-I1-02M   \n",
       "10        FsF-I3-01M   \n",
       "11       FsF-R1-01MD   \n",
       "12      FsF-R1.1-01M   \n",
       "13      FsF-R1.2-01M   \n",
       "14      FsF-R1.3-01M   \n",
       "15      FsF-R1.3-02D   \n",
       "\n",
       "                                                                                                                                                      metric_name  \\\n",
       "0                                                                                                                  Data is assigned a globally unique identifier.   \n",
       "1                                                                                                                       Data is assigned a persistent identifier.   \n",
       "2   Metadata includes descriptive core elements (creator, title, data identifier, publisher, publication date, summary and keywords) to support data findability.   \n",
       "3                                                                                                      Metadata includes the identifier of the data it describes.   \n",
       "4                                                                                    Metadata is offered in such a way that it can be retrieved programmatically.   \n",
       "5                                                                                               Metadata contains access level and access conditions of the data.   \n",
       "6                                                      Metadata as well as data are retrievable by their identifier using a standardized communications protocol.   \n",
       "7                                                                                            Metadata remains available, even if the data is no longer available.   \n",
       "8                                                                                       Metadata is represented using a formal knowledge representation language.   \n",
       "9                                                                                                                                Metadata uses semantic resources   \n",
       "10                                                                                             Metadata includes links between the data and its related entities.   \n",
       "11                                                                                                                    Metadata specifies the content of the data.   \n",
       "12                                                                                          Metadata includes license information under which data can be reused.   \n",
       "13                                                                                    Metadata includes provenance information about data creation or generation.   \n",
       "14                                                                          Metadata follows a standard recommended by the target research community of the data.   \n",
       "15                                                                               Data is available in a file format recommended by the target research community.   \n",
       "\n",
       "    total_score  \n",
       "0             1  \n",
       "1             1  \n",
       "2             2  \n",
       "3             1  \n",
       "4             2  \n",
       "5             1  \n",
       "6             2  \n",
       "7             1  \n",
       "8             2  \n",
       "9             1  \n",
       "10            1  \n",
       "11            4  \n",
       "12            1  \n",
       "13            2  \n",
       "14            1  \n",
       "15            1  "
      ]
     },
     "execution_count": 17,
     "metadata": {},
     "output_type": "execute_result"
    }
   ],
   "source": [
    "df_metrics = pd.DataFrame.from_dict(metrics)\n",
    "df_metrics"
   ]
  },
  {
   "cell_type": "markdown",
   "metadata": {},
   "source": [
    "Request phaidra italy records"
   ]
  },
  {
   "cell_type": "code",
   "execution_count": 18,
   "metadata": {},
   "outputs": [
    {
     "data": {
      "text/plain": [
       "'20201003'"
      ]
     },
     "execution_count": 18,
     "metadata": {},
     "output_type": "execute_result"
    }
   ],
   "source": [
    "datasets = []\n",
    "max_dataset = 1500\n",
    "oai_phaidra = 'https://fc.cab.unipd.it/oaiprovider/'\n",
    "timestr = time.strftime(\"%Y%m%d\")\n",
    "timestr"
   ]
  },
  {
   "cell_type": "code",
   "execution_count": 19,
   "metadata": {},
   "outputs": [],
   "source": [
    "oai_sets =[]\n",
    "registry = MetadataRegistry()\n",
    "registry.registerReader('oai_dc', oai_dc_reader)\n",
    "client = Client(oai_phaidra, registry)\n",
    "for s in client.listSets():\n",
    "    oai_sets.append(s[0])"
   ]
  },
  {
   "cell_type": "code",
   "execution_count": 20,
   "metadata": {},
   "outputs": [
    {
     "data": {
      "text/plain": [
       "['fisica',\n",
       " 'tavole-parietali-anonime',\n",
       " 'zoologische-wandtafeln-leuckart',\n",
       " 'zoologische-wandtafeln-leuckart-nitsche',\n",
       " 'zoologische-wandtafeln-pfurtscheller',\n",
       " 'collection-remy-perrier-cepede',\n",
       " 'BELF',\n",
       " 'PSMC']"
      ]
     },
     "execution_count": 20,
     "metadata": {},
     "output_type": "execute_result"
    }
   ],
   "source": [
    "oai_sets"
   ]
  },
  {
   "cell_type": "code",
   "execution_count": 21,
   "metadata": {},
   "outputs": [],
   "source": [
    "dataset_all = []\n",
    "datasets_wo_metadata = []"
   ]
  },
  {
   "cell_type": "code",
   "execution_count": 22,
   "metadata": {},
   "outputs": [
    {
     "ename": "NameError",
     "evalue": "name 'allrec' is not defined",
     "output_type": "error",
     "traceback": [
      "\u001b[1;31m---------------------------------------------------------------------------\u001b[0m",
      "\u001b[1;31mNameError\u001b[0m                                 Traceback (most recent call last)",
      "\u001b[1;32m<timed exec>\u001b[0m in \u001b[0;36m<module>\u001b[1;34m\u001b[0m\n",
      "\u001b[1;31mNameError\u001b[0m: name 'allrec' is not defined"
     ]
    }
   ],
   "source": [
    "%%time\n",
    "#https://fc.cab.unipd.it/oaiprovider/?verb=ListRecords&metadataPrefix=oai_dc\n",
    "registry = MetadataRegistry()\n",
    "registry.registerReader('oai_dc', oai_dc_reader)\n",
    "client = Client(oai_phaidra, registry)\n",
    "for record in client.listRecords(metadataPrefix='oai_dc'):\n",
    "    localid =  record[0].identifier()\n",
    "    if record[1]:\n",
    "        metadata = record[1].getMap()\n",
    "        identifier = None\n",
    "        resource_type = None\n",
    "        rights = None\n",
    "        identifiers = [d for d in metadata['identifier'] if d.startswith('hdl:')]\n",
    "        alt_identifiers = [d for d in metadata['identifier'] if d.startswith('http')]\n",
    "        if identifiers:\n",
    "            identifier = identifiers[0].replace('hdl:','https://hdl.handle.net/')\n",
    "        else:\n",
    "            identifier = alt_identifiers[0]\n",
    "        data = {}\n",
    "        data['id']= localid\n",
    "        data['identifier'] = identifier\n",
    "        data['type']= metadata.get('type')[0]\n",
    "        data['rights']= metadata.get('rights')[0]\n",
    "        dataset_all.append(data)\n",
    "    else:\n",
    "        datasets_wo_metadata.append(record[0].identifier())"
   ]
  },
  {
   "cell_type": "code",
   "execution_count": 23,
   "metadata": {},
   "outputs": [
    {
     "data": {
      "text/plain": [
       "0"
      ]
     },
     "execution_count": 23,
     "metadata": {},
     "output_type": "execute_result"
    }
   ],
   "source": [
    "len(dataset_all) #29896"
   ]
  },
  {
   "cell_type": "code",
   "execution_count": 24,
   "metadata": {},
   "outputs": [
    {
     "data": {
      "text/plain": [
       "0"
      ]
     },
     "execution_count": 24,
     "metadata": {},
     "output_type": "execute_result"
    }
   ],
   "source": [
    "len(datasets_wo_metadata)"
   ]
  },
  {
   "cell_type": "code",
   "execution_count": 25,
   "metadata": {},
   "outputs": [
    {
     "data": {
      "text/html": [
       "<div>\n",
       "<style scoped>\n",
       "    .dataframe tbody tr th:only-of-type {\n",
       "        vertical-align: middle;\n",
       "    }\n",
       "\n",
       "    .dataframe tbody tr th {\n",
       "        vertical-align: top;\n",
       "    }\n",
       "\n",
       "    .dataframe thead th {\n",
       "        text-align: right;\n",
       "    }\n",
       "</style>\n",
       "<table border=\"1\" class=\"dataframe\">\n",
       "  <thead>\n",
       "    <tr style=\"text-align: right;\">\n",
       "      <th></th>\n",
       "    </tr>\n",
       "  </thead>\n",
       "  <tbody>\n",
       "  </tbody>\n",
       "</table>\n",
       "</div>"
      ],
      "text/plain": [
       "Empty DataFrame\n",
       "Columns: []\n",
       "Index: []"
      ]
     },
     "execution_count": 25,
     "metadata": {},
     "output_type": "execute_result"
    }
   ],
   "source": [
    "#group datasets by type\n",
    "df = pd.DataFrame(dataset_all)\n",
    "df.head()"
   ]
  },
  {
   "cell_type": "code",
   "execution_count": 26,
   "metadata": {},
   "outputs": [
    {
     "ename": "AttributeError",
     "evalue": "'DataFrame' object has no attribute 'identifier'",
     "output_type": "error",
     "traceback": [
      "\u001b[1;31m---------------------------------------------------------------------------\u001b[0m",
      "\u001b[1;31mAttributeError\u001b[0m                            Traceback (most recent call last)",
      "\u001b[1;32m<ipython-input-26-48acbcbd46f8>\u001b[0m in \u001b[0;36m<module>\u001b[1;34m\u001b[0m\n\u001b[1;32m----> 1\u001b[1;33m \u001b[0mdf\u001b[0m\u001b[1;33m[\u001b[0m\u001b[0mdf\u001b[0m\u001b[1;33m.\u001b[0m\u001b[0midentifier\u001b[0m\u001b[1;33m.\u001b[0m\u001b[0misnull\u001b[0m\u001b[1;33m(\u001b[0m\u001b[1;33m)\u001b[0m\u001b[1;33m]\u001b[0m\u001b[1;33m.\u001b[0m\u001b[0mshape\u001b[0m\u001b[1;33m,\u001b[0m \u001b[0mdf\u001b[0m\u001b[1;33m[\u001b[0m\u001b[0mdf\u001b[0m\u001b[1;33m.\u001b[0m\u001b[0mid\u001b[0m\u001b[1;33m.\u001b[0m\u001b[0misnull\u001b[0m\u001b[1;33m(\u001b[0m\u001b[1;33m)\u001b[0m\u001b[1;33m]\u001b[0m\u001b[1;33m.\u001b[0m\u001b[0mshape\u001b[0m\u001b[1;33m\u001b[0m\u001b[1;33m\u001b[0m\u001b[0m\n\u001b[0m",
      "\u001b[1;32m~\\anaconda3\\lib\\site-packages\\pandas\\core\\generic.py\u001b[0m in \u001b[0;36m__getattr__\u001b[1;34m(self, name)\u001b[0m\n\u001b[0;32m   5128\u001b[0m             \u001b[1;32mif\u001b[0m \u001b[0mself\u001b[0m\u001b[1;33m.\u001b[0m\u001b[0m_info_axis\u001b[0m\u001b[1;33m.\u001b[0m\u001b[0m_can_hold_identifiers_and_holds_name\u001b[0m\u001b[1;33m(\u001b[0m\u001b[0mname\u001b[0m\u001b[1;33m)\u001b[0m\u001b[1;33m:\u001b[0m\u001b[1;33m\u001b[0m\u001b[1;33m\u001b[0m\u001b[0m\n\u001b[0;32m   5129\u001b[0m                 \u001b[1;32mreturn\u001b[0m \u001b[0mself\u001b[0m\u001b[1;33m[\u001b[0m\u001b[0mname\u001b[0m\u001b[1;33m]\u001b[0m\u001b[1;33m\u001b[0m\u001b[1;33m\u001b[0m\u001b[0m\n\u001b[1;32m-> 5130\u001b[1;33m             \u001b[1;32mreturn\u001b[0m \u001b[0mobject\u001b[0m\u001b[1;33m.\u001b[0m\u001b[0m__getattribute__\u001b[0m\u001b[1;33m(\u001b[0m\u001b[0mself\u001b[0m\u001b[1;33m,\u001b[0m \u001b[0mname\u001b[0m\u001b[1;33m)\u001b[0m\u001b[1;33m\u001b[0m\u001b[1;33m\u001b[0m\u001b[0m\n\u001b[0m\u001b[0;32m   5131\u001b[0m \u001b[1;33m\u001b[0m\u001b[0m\n\u001b[0;32m   5132\u001b[0m     \u001b[1;32mdef\u001b[0m \u001b[0m__setattr__\u001b[0m\u001b[1;33m(\u001b[0m\u001b[0mself\u001b[0m\u001b[1;33m,\u001b[0m \u001b[0mname\u001b[0m\u001b[1;33m:\u001b[0m \u001b[0mstr\u001b[0m\u001b[1;33m,\u001b[0m \u001b[0mvalue\u001b[0m\u001b[1;33m)\u001b[0m \u001b[1;33m->\u001b[0m \u001b[1;32mNone\u001b[0m\u001b[1;33m:\u001b[0m\u001b[1;33m\u001b[0m\u001b[1;33m\u001b[0m\u001b[0m\n",
      "\u001b[1;31mAttributeError\u001b[0m: 'DataFrame' object has no attribute 'identifier'"
     ]
    }
   ],
   "source": [
    "df[df.identifier.isnull()].shape, df[df.id.isnull()].shape"
   ]
  },
  {
   "cell_type": "code",
   "execution_count": null,
   "metadata": {},
   "outputs": [],
   "source": [
    "df.rights.unique()"
   ]
  },
  {
   "cell_type": "code",
   "execution_count": null,
   "metadata": {},
   "outputs": [],
   "source": [
    "path_df =data_dir+'/'+'phaidraitaly_df_'+timestr+'.csv'\n",
    "df.to_csv(path_df, index = False)"
   ]
  },
  {
   "cell_type": "code",
   "execution_count": null,
   "metadata": {},
   "outputs": [],
   "source": [
    "incomplete_file = data_dir+'/'+'phaidraitaly_incomplete_'+timestr+'.txt'\n",
    "with open(incomplete_file, 'w') as f:\n",
    "    for item in datasets_wo_metadata:\n",
    "        f.write(\"%s\\n\" % item)"
   ]
  },
  {
   "cell_type": "code",
   "execution_count": null,
   "metadata": {},
   "outputs": [],
   "source": [
    "df.groupby('type')['id'].nunique()"
   ]
  },
  {
   "cell_type": "code",
   "execution_count": null,
   "metadata": {},
   "outputs": [],
   "source": [
    "df_filter = df.loc[(df['type'] != 'Unknown') & (df['type'] != 'Page')]"
   ]
  },
  {
   "cell_type": "code",
   "execution_count": null,
   "metadata": {},
   "outputs": [],
   "source": [
    "df_filter.shape"
   ]
  },
  {
   "cell_type": "code",
   "execution_count": null,
   "metadata": {},
   "outputs": [],
   "source": [
    "df_filter = df_filter.sample(n = max_dataset)"
   ]
  },
  {
   "cell_type": "code",
   "execution_count": null,
   "metadata": {},
   "outputs": [],
   "source": [
    "df_filter.groupby('rights')['id'].nunique()"
   ]
  },
  {
   "cell_type": "code",
   "execution_count": null,
   "metadata": {},
   "outputs": [],
   "source": [
    "df_filter.groupby('type')['id'].nunique()"
   ]
  },
  {
   "cell_type": "code",
   "execution_count": null,
   "metadata": {},
   "outputs": [],
   "source": [
    "datasets = df_filter['identifier'].tolist()"
   ]
  },
  {
   "cell_type": "code",
   "execution_count": null,
   "metadata": {},
   "outputs": [],
   "source": [
    "len(datasets) #old 29894"
   ]
  },
  {
   "cell_type": "code",
   "execution_count": null,
   "metadata": {},
   "outputs": [],
   "source": [
    "datalist_file = data_dir+'/'+'phaidraitaly_datasets_selected_'+timestr+'.txt'\n",
    "with open(datalist_file, 'w') as f:\n",
    "    for item in datasets:\n",
    "        f.write(\"%s\\n\" % item)"
   ]
  },
  {
   "cell_type": "code",
   "execution_count": null,
   "metadata": {},
   "outputs": [],
   "source": [
    "datasets[:5]"
   ]
  },
  {
   "cell_type": "code",
   "execution_count": null,
   "metadata": {},
   "outputs": [],
   "source": [
    "%%time \n",
    "all_records = []\n",
    "for d in datasets:\n",
    "    req = {'object_identifier':d, 'test_debug':True, 'oaipmh_endpoint':oai_phaidra}\n",
    "    r = requests.post(fuji_service, data=json.dumps(req), headers={'Content-Type': 'application/json'}, auth=('username', 'password'))\n",
    "    json_data = r.json()\n",
    "    records = {}\n",
    "    records['identifier'] = d\n",
    "    records['result'] = json_data.get('results')\n",
    "    all_records.append(records)"
   ]
  },
  {
   "cell_type": "code",
   "execution_count": null,
   "metadata": {},
   "outputs": [],
   "source": [
    "file_name = data_dir+'/'+'phaidraitaly_'+timestr+'.json'\n",
    "with open(file_name, 'w') as f:\n",
    "    json.dump(all_records, f)"
   ]
  },
  {
   "cell_type": "code",
   "execution_count": null,
   "metadata": {},
   "outputs": [],
   "source": [
    "#timestr ='20200908'\n",
    "#file_name ='results/phaidraitaly_'+timestr+'.json'\n",
    "with open(file_name) as json_file:\n",
    "    data = json.load(json_file)"
   ]
  },
  {
   "cell_type": "code",
   "execution_count": null,
   "metadata": {},
   "outputs": [],
   "source": [
    "def get_assessment_result(id):\n",
    "    jsn = None\n",
    "    for data_dict in data:\n",
    "        if data_dict['identifier'] == id:\n",
    "            jsn = data_dict['result']\n",
    "    return jsn"
   ]
  },
  {
   "cell_type": "code",
   "execution_count": null,
   "metadata": {},
   "outputs": [],
   "source": [
    "test_dataset ='https://hdl.handle.net/11168/11.436047'"
   ]
  },
  {
   "cell_type": "code",
   "execution_count": null,
   "metadata": {},
   "outputs": [],
   "source": [
    "get_assessment_result(test_dataset)"
   ]
  },
  {
   "cell_type": "code",
   "execution_count": null,
   "metadata": {
    "scrolled": true
   },
   "outputs": [],
   "source": [
    "final = []\n",
    "for data_dict in data:\n",
    "    results = {}\n",
    "    results['identifier'] = data_dict['identifier']\n",
    "    dd = data_dict['result'] # list of dict\n",
    "    #print(results['identifier'])\n",
    "    for d in dd:\n",
    "        metric_identifier = d['metric_identifier']\n",
    "        sub_principle = metric_identifier.split('-')[1]\n",
    "        principle = sub_principle[0]+'_earned'\n",
    "        principle_total = sub_principle[0]+'_total'\n",
    "        if not sub_principle in results:\n",
    "            results[sub_principle] = d['score']['earned']\n",
    "        else:\n",
    "            results[sub_principle] += d['score']['earned']\n",
    "        if not principle in results:\n",
    "            results[principle] = d['score']['earned']\n",
    "        else:\n",
    "            results[principle] += d['score']['earned']\n",
    "        if not principle_total in results:\n",
    "            results[principle_total] = d['score']['total']\n",
    "        else:\n",
    "            results[principle_total] += d['score']['total']\n",
    "    final.append(results)"
   ]
  },
  {
   "cell_type": "code",
   "execution_count": null,
   "metadata": {},
   "outputs": [],
   "source": [
    "df_results = pd.DataFrame.from_dict(final)"
   ]
  },
  {
   "cell_type": "code",
   "execution_count": null,
   "metadata": {},
   "outputs": [],
   "source": [
    "cols = ['identifier','F1','F2','F3','F4','A1','A1','I1','I3','R1','R1.1','R1.2','R1.3','F_earned','F_total','A_earned','A_total','I_earned','I_total','R_earned','R_total']\n",
    "df_results = df_results[cols]"
   ]
  },
  {
   "cell_type": "code",
   "execution_count": null,
   "metadata": {},
   "outputs": [],
   "source": [
    "df_results.head()"
   ]
  },
  {
   "cell_type": "code",
   "execution_count": null,
   "metadata": {},
   "outputs": [],
   "source": [
    "df_results.iloc[0]"
   ]
  },
  {
   "cell_type": "code",
   "execution_count": null,
   "metadata": {},
   "outputs": [],
   "source": [
    "df_results ['F_Principle'] = (df_results ['F_earned'] / df_results ['F_total'] ).round(2)\n",
    "df_results ['A_Principle'] = (df_results ['A_earned'] / df_results ['A_total'] ).round(2)\n",
    "df_results ['I_Principle'] = (df_results ['I_earned'] / df_results ['I_total'] ).round(2)\n",
    "df_results ['R_Principle' ]= (df_results ['R_earned'] / df_results ['R_total']).round(2)"
   ]
  },
  {
   "cell_type": "code",
   "execution_count": null,
   "metadata": {},
   "outputs": [],
   "source": [
    "df_results.head()"
   ]
  },
  {
   "cell_type": "code",
   "execution_count": null,
   "metadata": {},
   "outputs": [],
   "source": [
    "df_hist = df_results[['identifier','F_Principle','A_Principle','I_Principle','R_Principle']]\n",
    "df_hist"
   ]
  },
  {
   "cell_type": "code",
   "execution_count": null,
   "metadata": {},
   "outputs": [],
   "source": [
    "df_hist[df_hist.F_Principle <50].iloc[0]"
   ]
  },
  {
   "cell_type": "code",
   "execution_count": null,
   "metadata": {},
   "outputs": [],
   "source": [
    "#timestr ='20200908'\n",
    "title = \"FAIR Scores of Phaidra Italy Datasets (n=\"+str(len(df_hist))+\")\"\n",
    "df_hist.plot.hist(sharex=True,sharey=True,alpha=0.65,figsize = (8,6), title=title)\n",
    "plt.xlabel('FAIR Score')\n",
    "fig_name = data_dir+'/'+'phaidraitaly_'+timestr+'.png'\n",
    "plt.savefig(fig_name)"
   ]
  },
  {
   "cell_type": "code",
   "execution_count": null,
   "metadata": {},
   "outputs": [],
   "source": [
    "def histograms_plot(dataframe, features, rows, cols):\n",
    "    fig=plt.figure(figsize=(8,6))\n",
    "    # set palette \n",
    "    palette = itertools.cycle(sns.color_palette())\n",
    "    for i, feature in enumerate(features):\n",
    "        c = next(palette)\n",
    "        ax=fig.add_subplot(rows,cols,i+1)\n",
    "        dataframe[feature].plot.hist(bins=20, ax=ax, color=c, range=(0, 1.0))\n",
    "        ax.set_title(\"FAIR Score - \"+feature+ ' (n=' + str(len(df_hist))+')')\n",
    "        ax.set(xlabel=\"Score\", ylabel=\"Frequency\")\n",
    "    fig.subplots_adjust(top=1.4)\n",
    "    plt.show()\n",
    "    fig_name = data_dir+'/'+'sub_phaidraitaly_'+timestr+'.png'\n",
    "    plt.savefig(fig_name)"
   ]
  },
  {
   "cell_type": "code",
   "execution_count": null,
   "metadata": {},
   "outputs": [],
   "source": [
    "histograms_plot(df_hist,df_hist.columns[1:],2,2)"
   ]
  },
  {
   "cell_type": "code",
   "execution_count": null,
   "metadata": {},
   "outputs": [],
   "source": []
  },
  {
   "cell_type": "markdown",
   "metadata": {},
   "source": [
    "Findability"
   ]
  },
  {
   "cell_type": "code",
   "execution_count": null,
   "metadata": {},
   "outputs": [],
   "source": [
    "df_hist[df_hist.F_Principle < 0.9]"
   ]
  },
  {
   "cell_type": "code",
   "execution_count": null,
   "metadata": {},
   "outputs": [],
   "source": [
    "df_hist[df_hist.F_Principle >= 0.9].head()"
   ]
  },
  {
   "cell_type": "markdown",
   "metadata": {},
   "source": [
    "Accessibility"
   ]
  },
  {
   "cell_type": "code",
   "execution_count": null,
   "metadata": {},
   "outputs": [],
   "source": [
    "df_hist[df_hist.A_Principle < 0.6].head()"
   ]
  },
  {
   "cell_type": "markdown",
   "metadata": {},
   "source": [
    "Interoperability"
   ]
  },
  {
   "cell_type": "code",
   "execution_count": null,
   "metadata": {},
   "outputs": [],
   "source": [
    "df_hist[df_hist.I_Principle < 0.6].head()"
   ]
  },
  {
   "cell_type": "code",
   "execution_count": null,
   "metadata": {},
   "outputs": [],
   "source": [
    "df_hist[df_hist.I_Principle > 0.6].head()"
   ]
  },
  {
   "cell_type": "markdown",
   "metadata": {},
   "source": [
    "Reusability"
   ]
  },
  {
   "cell_type": "code",
   "execution_count": null,
   "metadata": {},
   "outputs": [],
   "source": [
    "df_hist[df_hist.R_Principle < 0.4].head()"
   ]
  },
  {
   "cell_type": "code",
   "execution_count": null,
   "metadata": {},
   "outputs": [],
   "source": [
    "df_hist[df_hist.R_Principle > 0.6].head()"
   ]
  },
  {
   "cell_type": "code",
   "execution_count": null,
   "metadata": {},
   "outputs": [],
   "source": [
    "df_hist[df_hist.R_Principle < 0.6]"
   ]
  },
  {
   "cell_type": "code",
   "execution_count": null,
   "metadata": {},
   "outputs": [],
   "source": []
  },
  {
   "cell_type": "code",
   "execution_count": null,
   "metadata": {},
   "outputs": [],
   "source": []
  },
  {
   "cell_type": "code",
   "execution_count": null,
   "metadata": {},
   "outputs": [],
   "source": []
  },
  {
   "cell_type": "code",
   "execution_count": null,
   "metadata": {},
   "outputs": [],
   "source": []
  }
 ],
 "metadata": {
  "kernelspec": {
   "display_name": "Python 3",
   "language": "python",
   "name": "python3"
  },
  "language_info": {
   "codemirror_mode": {
    "name": "ipython",
    "version": 3
   },
   "file_extension": ".py",
   "mimetype": "text/x-python",
   "name": "python",
   "nbconvert_exporter": "python",
   "pygments_lexer": "ipython3",
   "version": "3.7.6"
  }
 },
 "nbformat": 4,
 "nbformat_minor": 4
}
