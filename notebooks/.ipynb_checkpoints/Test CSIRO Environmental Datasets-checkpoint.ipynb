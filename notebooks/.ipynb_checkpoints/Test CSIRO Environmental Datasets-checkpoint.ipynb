{
 "cells": [
  {
   "cell_type": "code",
   "execution_count": 27,
   "metadata": {},
   "outputs": [],
   "source": [
    "import json\n",
    "import requests\n",
    "%matplotlib inline\n",
    "import numpy as np\n",
    "import matplotlib.pyplot as plt\n",
    "plt.rcParams['axes.grid'] = True\n",
    "import pandas as pd\n",
    "import seaborn as sns \n",
    "import itertools\n",
    "import collections\n",
    "import random\n",
    "import time\n",
    "import urllib\n",
    "pd.set_option('display.max_colwidth', None)"
   ]
  },
  {
   "cell_type": "code",
   "execution_count": 28,
   "metadata": {},
   "outputs": [],
   "source": [
    "#Publicly accessible DAP collections can be accessed using /ws/v2 without authentication.\n",
    "# https://data.csiro.au/dap/swagger-ui.html#/\n",
    "#csiro_base_url = 'https://data.csiro.au/dap/ws/v2/collections/search'\n",
    "csiro_base_url = 'https://data.csiro.au/dap/ws/v2/collections/browse/td/'"
   ]
  },
  {
   "cell_type": "code",
   "execution_count": 29,
   "metadata": {},
   "outputs": [],
   "source": [
    "# FOR codes\n",
    "# 05 Environmental Sciences\n",
    "# 04 Earth Sciences\n",
    "fields_of_research = ['Environmental Sciences','Earth Sciences', 'Agricultural and Veterinary Sciences']"
   ]
  },
  {
   "cell_type": "markdown",
   "metadata": {},
   "source": [
    "Query datasets by FOR"
   ]
  },
  {
   "cell_type": "code",
   "execution_count": 30,
   "metadata": {},
   "outputs": [],
   "source": [
    "test_dataset = 'https://data.csiro.au/collections/#collection/CIcsiro:13481'\n",
    "test_dataset ='https://doi.org/10.4225/08/58c8f798f241a'"
   ]
  },
  {
   "cell_type": "code",
   "execution_count": 32,
   "metadata": {},
   "outputs": [],
   "source": [
    "datasets = []\n",
    "data_dir = 'results'\n",
    "max_dataset = 500"
   ]
  },
  {
   "cell_type": "code",
   "execution_count": 33,
   "metadata": {},
   "outputs": [
    {
     "name": "stdout",
     "output_type": "stream",
     "text": [
      "Environmental Sciences : 539\n",
      "next  https://data.csiro.au/dap/ws/v2/collections/browse/td/Environmental Sciences/?rpp=100&sb=RELEVANCE&soud=True&p=2\n",
      "next  https://data.csiro.au/dap/ws/v2/collections/browse/td/Environmental Sciences/?rpp=100&sb=RELEVANCE&soud=True&p=3\n",
      "next  https://data.csiro.au/dap/ws/v2/collections/browse/td/Environmental Sciences/?rpp=100&sb=RELEVANCE&soud=True&p=4\n",
      "next  https://data.csiro.au/dap/ws/v2/collections/browse/td/Environmental Sciences/?rpp=100&sb=RELEVANCE&soud=True&p=5\n",
      "next  https://data.csiro.au/dap/ws/v2/collections/browse/td/Environmental Sciences/?rpp=100&sb=RELEVANCE&soud=True&p=6\n",
      "Earth Sciences : 328\n",
      "next  https://data.csiro.au/dap/ws/v2/collections/browse/td/Earth Sciences/?rpp=100&sb=RELEVANCE&soud=True&p=2\n",
      "next  https://data.csiro.au/dap/ws/v2/collections/browse/td/Earth Sciences/?rpp=100&sb=RELEVANCE&soud=True&p=3\n",
      "next  https://data.csiro.au/dap/ws/v2/collections/browse/td/Earth Sciences/?rpp=100&sb=RELEVANCE&soud=True&p=4\n",
      "Agricultural and Veterinary Sciences : 268\n",
      "next  https://data.csiro.au/dap/ws/v2/collections/browse/td/Agricultural and Veterinary Sciences/?rpp=100&sb=RELEVANCE&soud=True&p=2\n",
      "next  https://data.csiro.au/dap/ws/v2/collections/browse/td/Agricultural and Veterinary Sciences/?rpp=100&sb=RELEVANCE&soud=True&p=3\n",
      "Astronomical and Space Sciences not elsewhere classified : 0\n"
     ]
    }
   ],
   "source": [
    "# soud -> Show Only Unrestricted Data\n",
    "for s in fields_of_research:\n",
    "    has_next_key = False\n",
    "    url = csiro_base_url+s+\"/?rpp=100&sb=RELEVANCE&soud=True\"\n",
    "    once = True\n",
    "    while True:\n",
    "        try:\n",
    "            r = requests.get(url, headers={'Content-Type': 'application/json'})\n",
    "            response = r.json()\n",
    "            if response:\n",
    "                total_results = response['totalResults']\n",
    "                if once == True:\n",
    "                    print(s, ':', total_results)\n",
    "                    once = False\n",
    "                if response.get('next'):\n",
    "                    next_page = response.get('next').get('href')\n",
    "                    if next_page:\n",
    "                        url = next_page.replace('https://data.csiro.au/dap/ws/v2/collections.json?', csiro_base_url+s+'/?')\n",
    "                        print('next ', url)\n",
    "                        for resp in response['dataCollections']:\n",
    "                            if resp['collectionType'] =='Data' and resp['doi']:\n",
    "                                datasets.append('https://doi.org/'+resp['doi'])\n",
    "                else:\n",
    "                    break\n",
    "        except requests.exceptions.RequestException as e:\n",
    "            print(e)\n",
    "        except requests.exceptions.ConnectionError as e1:\n",
    "            print(e1)"
   ]
  },
  {
   "cell_type": "code",
   "execution_count": 24,
   "metadata": {},
   "outputs": [
    {
     "data": {
      "text/plain": [
       "['https://doi.org/10.4225/08/5758CCC862AD5',\n",
       " 'https://doi.org/10.25919/5f42f324b2ef8',\n",
       " 'https://doi.org/10.25919/5f42f2e94119c']"
      ]
     },
     "execution_count": 24,
     "metadata": {},
     "output_type": "execute_result"
    }
   ],
   "source": [
    "datasets[:3]"
   ]
  },
  {
   "cell_type": "code",
   "execution_count": 25,
   "metadata": {},
   "outputs": [
    {
     "data": {
      "text/plain": [
       "['https://doi.org/10.25919/5f42f324b2ef8',\n",
       " 'https://doi.org/10.25919/5f42f2e94119c',\n",
       " 'https://doi.org/10.4225/08/5756169E381CC',\n",
       " 'https://doi.org/10.25919/5f11302469a67',\n",
       " 'https://doi.org/10.4225/08/51400D6F7B335',\n",
       " 'https://doi.org/10.25919/5e4a0e4e93d4c',\n",
       " 'https://doi.org/10.25919/5e3cb8fe0290e',\n",
       " 'https://doi.org/10.25919/5e1590e33097f',\n",
       " 'https://doi.org/10.25919/5de850a1d2172',\n",
       " 'https://doi.org/10.4225/08/5a52c88e56d2c',\n",
       " 'https://doi.org/10.25919/5d7ed23c09baa',\n",
       " 'https://doi.org/10.25919/5d0b2c7ed3c5c',\n",
       " 'https://doi.org/10.4225/08/55E5165EC0D29',\n",
       " 'https://doi.org/10.25919/5c7e431416819',\n",
       " 'https://doi.org/10.25919/5c0efa88cd454',\n",
       " 'https://doi.org/10.25919/5ba9d1f452bd0',\n",
       " 'https://doi.org/10.25919/5bab02d7e5f7d',\n",
       " 'https://doi.org/10.25919/5bab02a33dcf7',\n",
       " 'https://doi.org/10.25919/5bab0273bc98c',\n",
       " 'https://doi.org/10.25919/5ba9d1c805949',\n",
       " 'https://doi.org/10.25919/5ba9d18ee2cca',\n",
       " 'https://doi.org/10.25919/5b99e7a21bbfb',\n",
       " 'https://doi.org/10.25919/5b7cfaf0ae509',\n",
       " 'https://doi.org/10.25919/5b7cf3fa773a1',\n",
       " 'https://doi.org/10.25919/5b7a0c7b8f182',\n",
       " 'https://doi.org/10.4225/08/5b39a08a00bb5',\n",
       " 'https://doi.org/10.4225/08/5b285fd14991f',\n",
       " 'https://doi.org/10.4225/08/5af3a3ea3bb6f',\n",
       " 'https://doi.org/10.4225/08/5af3a3a9b2e4b',\n",
       " 'https://doi.org/10.4225/08/5aea51fe5a751',\n",
       " 'https://doi.org/10.4225/08/5aea511408acf',\n",
       " 'https://doi.org/10.4225/08/5ae6936e73ad3',\n",
       " 'https://doi.org/10.4225/08/5ae16ee91a6d9',\n",
       " 'https://doi.org/10.4225/08/5add8193da14b',\n",
       " 'https://doi.org/10.4225/08/5ad44cf044bf0',\n",
       " 'https://doi.org/10.4225/08/5abc0c9c4376e',\n",
       " 'https://doi.org/10.4225/08/5aa068b33fe06',\n",
       " 'https://doi.org/10.4225/08/5a3c52da083b8',\n",
       " 'https://doi.org/10.4225/08/59e7e3af33a0c',\n",
       " 'https://doi.org/10.4225/08/58c90558ae31f',\n",
       " 'https://doi.org/10.4225/08/58c8f80678aaa',\n",
       " 'https://doi.org/10.4225/08/58c8f7ec94220',\n",
       " 'https://doi.org/10.4225/08/58c8f7d49ddfe',\n",
       " 'https://doi.org/10.4225/08/58c8f7b70e3a1',\n",
       " 'https://doi.org/10.4225/08/58c8f798f241a',\n",
       " 'https://doi.org/10.4225/08/58c8f75ec556f',\n",
       " 'https://doi.org/10.4225/08/58c8f729e5328',\n",
       " 'https://doi.org/10.4225/08/5872c3174783c',\n",
       " 'https://doi.org/10.4225/08/586ef70d640f4',\n",
       " 'https://doi.org/10.4225/08/586ec6e4246ac',\n",
       " 'https://doi.org/10.4225/08/586ec70f080bf',\n",
       " 'https://doi.org/10.4225/08/57BF85D6023D1',\n",
       " 'https://doi.org/10.4225/08/57BF859E3ACE4',\n",
       " 'https://doi.org/10.4225/08/5837b3aa9cb90',\n",
       " 'https://doi.org/10.4225/08/582cef2dd5966',\n",
       " 'https://doi.org/10.4225/08/57903B83D6A5D',\n",
       " 'https://doi.org/10.4225/08/5791B5528BD63',\n",
       " 'https://doi.org/10.4225/08/5957b954ed802',\n",
       " 'https://doi.org/10.4225/08/56E6563A48BF1',\n",
       " 'https://doi.org/10.4225/08/551485767777F',\n",
       " 'https://doi.org/10.4225/08/551485612CDEE',\n",
       " 'https://doi.org/10.4225/08/5514854B5C10A',\n",
       " 'https://doi.org/10.4225/08/55148535DD183',\n",
       " 'https://doi.org/10.4225/08/5514850A85A34',\n",
       " 'https://doi.org/10.4225/08/551484F5065A5',\n",
       " 'https://doi.org/10.4225/08/551484E015730',\n",
       " 'https://doi.org/10.4225/08/551484C9C7758',\n",
       " 'https://doi.org/10.4225/08/551484A8DE81A',\n",
       " 'https://doi.org/10.4225/08/55148491CB988',\n",
       " 'https://doi.org/10.4225/08/54F7EFFAE4125',\n",
       " 'https://doi.org/10.4225/08/54F0786D6D923',\n",
       " 'https://doi.org/10.4225/08/54C96117894C4',\n",
       " 'https://doi.org/10.4225/08/547CFB1756E3B',\n",
       " 'https://doi.org/10.4225/08/547CFB0289CC1',\n",
       " 'https://doi.org/10.4225/08/547CFAED7DB89',\n",
       " 'https://doi.org/10.4225/08/547CFAD851A9C',\n",
       " 'https://doi.org/10.4225/08/547CFABF81E84',\n",
       " 'https://doi.org/10.4225/08/54770ECCD1F66',\n",
       " 'https://doi.org/10.4225/08/546AB0229BDE8',\n",
       " 'https://doi.org/10.4225/08/546937F00BF9B',\n",
       " 'https://doi.org/10.4225/08/53FE5401D3CC8',\n",
       " 'https://doi.org/10.4225/08/53EC4AF9444F4',\n",
       " 'https://doi.org/10.4225/08/53F2A8D7DCE71',\n",
       " 'https://doi.org/10.4225/08/53F2A8B972BDC',\n",
       " 'https://doi.org/10.4225/08/53F2A8A02C1C5',\n",
       " 'https://doi.org/10.4225/08/53EC65C86DF85',\n",
       " 'https://doi.org/10.4225/08/53EC65B055295',\n",
       " 'https://doi.org/10.4225/08/53EC659A20E5C',\n",
       " 'https://doi.org/10.4225/08/53EC658358752',\n",
       " 'https://doi.org/10.4225/08/53EC656C2E968',\n",
       " 'https://doi.org/10.4225/08/53EC655499051',\n",
       " 'https://doi.org/10.4225/08/53EC653D807D7',\n",
       " 'https://doi.org/10.4225/08/53EC6525DCCC6',\n",
       " 'https://doi.org/10.4225/08/53EC650EE1ECC',\n",
       " 'https://doi.org/10.4225/08/53EC64F77FD4B',\n",
       " 'https://doi.org/10.4225/08/53EC64E0651C0',\n",
       " 'https://doi.org/10.4225/08/53EC64C83B377',\n",
       " 'https://doi.org/10.4225/08/53EC64B1A84B8',\n",
       " 'https://doi.org/10.4225/08/53EC649AB103E',\n",
       " 'https://doi.org/10.4225/08/53EC648377EF2',\n",
       " 'https://doi.org/10.4225/08/53EC645738B5B',\n",
       " 'https://doi.org/10.4225/08/53EC643FBD4B0',\n",
       " 'https://doi.org/10.4225/08/53EC6428A949D',\n",
       " 'https://doi.org/10.4225/08/53EC60AB0DD1B',\n",
       " 'https://doi.org/10.4225/08/53EC60946A1F8',\n",
       " 'https://doi.org/10.4225/08/53EC607D51BE2',\n",
       " 'https://doi.org/10.4225/08/53EC6065CC7E2',\n",
       " 'https://doi.org/10.4225/08/53EC604D51896',\n",
       " 'https://doi.org/10.4225/08/53EC60370FBA3',\n",
       " 'https://doi.org/10.4225/08/53EC601FD7750',\n",
       " 'https://doi.org/10.4225/08/53EC6008997EB',\n",
       " 'https://doi.org/10.4225/08/53EC5FF219FCB',\n",
       " 'https://doi.org/10.4225/08/53EC5FDB0E9A8',\n",
       " 'https://doi.org/10.4225/08/53EC5FC197BD7',\n",
       " 'https://doi.org/10.4225/08/53EC5FA7D6819',\n",
       " 'https://doi.org/10.4225/08/53EC5F8C4B470',\n",
       " 'https://doi.org/10.4225/08/53EC5F75757B1',\n",
       " 'https://doi.org/10.4225/08/53EC5F5AAD87E',\n",
       " 'https://doi.org/10.4225/08/53EC5F440A754',\n",
       " 'https://doi.org/10.4225/08/53EC5F2D5E27E',\n",
       " 'https://doi.org/10.4225/08/53EC5F167D805',\n",
       " 'https://doi.org/10.4225/08/53EC5EFEC1290',\n",
       " 'https://doi.org/10.4225/08/53EC5EE823319',\n",
       " 'https://doi.org/10.4225/08/53EC5ECD58FC8',\n",
       " 'https://doi.org/10.4225/08/53EC5EB69D2EB',\n",
       " 'https://doi.org/10.4225/08/53EC5E9F6EF5B',\n",
       " 'https://doi.org/10.4225/08/53EC5E87AAC05',\n",
       " 'https://doi.org/10.4225/08/53EC5E7097941',\n",
       " 'https://doi.org/10.4225/08/53EC5E59C60ED',\n",
       " 'https://doi.org/10.4225/08/53EC5E43646F8',\n",
       " 'https://doi.org/10.4225/08/53EC5E2C78045',\n",
       " 'https://doi.org/10.4225/08/53EC5E15AF903',\n",
       " 'https://doi.org/10.4225/08/53EC5DFEEE970',\n",
       " 'https://doi.org/10.4225/08/53EC5DE7CD357',\n",
       " 'https://doi.org/10.4225/08/53EC5DB9EF264',\n",
       " 'https://doi.org/10.4225/08/53EC5DA35A826',\n",
       " 'https://doi.org/10.4225/08/53EC5D8C6E3E3',\n",
       " 'https://doi.org/10.4225/08/53EC5D74DFA63',\n",
       " 'https://doi.org/10.4225/08/53EC5D5BA1B46',\n",
       " 'https://doi.org/10.4225/08/53EC5D442A1FB',\n",
       " 'https://doi.org/10.4225/08/53EC5D2B5AECA',\n",
       " 'https://doi.org/10.4225/08/53EC5D151B672',\n",
       " 'https://doi.org/10.4225/08/53EC5CFD9F464',\n",
       " 'https://doi.org/10.4225/08/53EC5CE73C5D1',\n",
       " 'https://doi.org/10.4225/08/53EC5CCFD3A28',\n",
       " 'https://doi.org/10.4225/08/53EC5CB8E2B67',\n",
       " 'https://doi.org/10.4225/08/53EC5CA226C4E',\n",
       " 'https://doi.org/10.4225/08/53EC5C8B432D6',\n",
       " 'https://doi.org/10.4225/08/53EC5C747AEB6',\n",
       " 'https://doi.org/10.4225/08/53EC5C5D982FB',\n",
       " 'https://doi.org/10.4225/08/53EC5C4694A52',\n",
       " 'https://doi.org/10.4225/08/53EC5C2F9CD6C',\n",
       " 'https://doi.org/10.4225/08/53EC5C1905F18',\n",
       " 'https://doi.org/10.4225/08/53EC5C004DB1D',\n",
       " 'https://doi.org/10.4225/08/53EC5BE993DB7',\n",
       " 'https://doi.org/10.4225/08/53EC5BD15B1D3',\n",
       " 'https://doi.org/10.4225/08/53EC5BBA56C31',\n",
       " 'https://doi.org/10.4225/08/53EC5BA344FD4',\n",
       " 'https://doi.org/10.4225/08/53EC5B81E1454',\n",
       " 'https://doi.org/10.4225/08/53EC5B6A75017',\n",
       " 'https://doi.org/10.4225/08/53EC4B559D314',\n",
       " 'https://doi.org/10.4225/08/53EC4B3F2A3B7',\n",
       " 'https://doi.org/10.4225/08/53EC4B2791215',\n",
       " 'https://doi.org/10.4225/08/53EC4B109F60F',\n",
       " 'https://doi.org/10.4225/08/53EC4AE2A97EB',\n",
       " 'https://doi.org/10.4225/08/53EC4ACBEF2E3',\n",
       " 'https://doi.org/10.4225/08/53EC4AB507B55',\n",
       " 'https://doi.org/10.4225/08/53EC4A9E42E84',\n",
       " 'https://doi.org/10.4225/08/53EC4A881DE16',\n",
       " 'https://doi.org/10.4225/08/53EC4A6F7C365',\n",
       " 'https://doi.org/10.4225/08/53EC4A5855C9F',\n",
       " 'https://doi.org/10.4225/08/53EC4A4117BC4',\n",
       " 'https://doi.org/10.4225/08/53EC4A2A68BF6',\n",
       " 'https://doi.org/10.4225/08/53EC4A13673EE',\n",
       " 'https://doi.org/10.4225/08/53EC49F6C5772',\n",
       " 'https://doi.org/10.4225/08/53EC49E028A26',\n",
       " 'https://doi.org/10.4225/08/53EC49C979150',\n",
       " 'https://doi.org/10.4225/08/53EC498A40C61',\n",
       " 'https://doi.org/10.4225/08/53EC4972DDF28',\n",
       " 'https://doi.org/10.4225/08/53EC495C12906',\n",
       " 'https://doi.org/10.4225/08/53EC493B843C7',\n",
       " 'https://doi.org/10.4225/08/53EC492434FAE',\n",
       " 'https://doi.org/10.4225/08/53EBBADC3B5FA',\n",
       " 'https://doi.org/10.4225/08/53EBBA637A98F',\n",
       " 'https://doi.org/10.4225/08/53EBBA274CF39',\n",
       " 'https://doi.org/10.4225/08/53EBB8C0200CE',\n",
       " 'https://doi.org/10.4225/08/53EBB80F9165D',\n",
       " 'https://doi.org/10.4225/08/53B0EC7D91D4B',\n",
       " 'https://doi.org/10.25919/5f0d269162071']"
      ]
     },
     "execution_count": 25,
     "metadata": {},
     "output_type": "execute_result"
    }
   ],
   "source": [
    "#[item for item, count in collections.Counter(datasets).items() if count > 1]"
   ]
  },
  {
   "cell_type": "code",
   "execution_count": 34,
   "metadata": {},
   "outputs": [
    {
     "name": "stdout",
     "output_type": "stream",
     "text": [
      "962\n",
      "765\n"
     ]
    }
   ],
   "source": [
    "print(len(datasets))\n",
    "datasets = list(set(datasets))\n",
    "print(len(datasets))"
   ]
  },
  {
   "cell_type": "code",
   "execution_count": 35,
   "metadata": {},
   "outputs": [],
   "source": [
    "datasets = random.choices(datasets, k = max_dataset)"
   ]
  },
  {
   "cell_type": "code",
   "execution_count": 36,
   "metadata": {},
   "outputs": [
    {
     "name": "stdout",
     "output_type": "stream",
     "text": [
      "Total datasets : 500\n"
     ]
    }
   ],
   "source": [
    "print('Total datasets :', len(datasets))"
   ]
  },
  {
   "cell_type": "code",
   "execution_count": 37,
   "metadata": {},
   "outputs": [
    {
     "name": "stdout",
     "output_type": "stream",
     "text": [
      "Request was redirected\n",
      "302 https://doi.org/10.4225/08/58c8f798f241a\n",
      "Final destination:\n",
      "200 https://data.csiro.au/collections/#collection/CIcsiro:9973v2\n"
     ]
    }
   ],
   "source": [
    "testr = requests.get('https://doi.org/10.4225/08/58c8f798f241a')\n",
    "if testr.history:\n",
    "    print(\"Request was redirected\")\n",
    "    for res in testr.history:\n",
    "        print(res.status_code, res.url)\n",
    "    print(\"Final destination:\")\n",
    "    print(testr.status_code, testr.url)\n",
    "else:\n",
    "    print(\"Request was not redirected\")"
   ]
  },
  {
   "cell_type": "markdown",
   "metadata": {},
   "source": [
    "Get info of all metrics implemented"
   ]
  },
  {
   "cell_type": "code",
   "execution_count": 38,
   "metadata": {},
   "outputs": [],
   "source": [
    "metrics = []\n",
    "try:\n",
    "    request = requests.get('http://localhost:1071/fuji/api/v1/metrics',headers={'Content-Type': 'application/json'}, auth=('username', 'password'))\n",
    "    mm = request.json()['metrics']\n",
    "    for m in mm:\n",
    "        metrics.append({k: m[k] for k in ('metric_identifier', 'metric_name', 'total_score')})\n",
    "except requests.exceptions.RequestException as e:\n",
    "    print(e)\n",
    "except requests.exceptions.ConnectionError as e1:\n",
    "    print(e1)"
   ]
  },
  {
   "cell_type": "code",
   "execution_count": 39,
   "metadata": {},
   "outputs": [
    {
     "data": {
      "text/html": [
       "<div>\n",
       "<style scoped>\n",
       "    .dataframe tbody tr th:only-of-type {\n",
       "        vertical-align: middle;\n",
       "    }\n",
       "\n",
       "    .dataframe tbody tr th {\n",
       "        vertical-align: top;\n",
       "    }\n",
       "\n",
       "    .dataframe thead th {\n",
       "        text-align: right;\n",
       "    }\n",
       "</style>\n",
       "<table border=\"1\" class=\"dataframe\">\n",
       "  <thead>\n",
       "    <tr style=\"text-align: right;\">\n",
       "      <th></th>\n",
       "      <th>metric_identifier</th>\n",
       "      <th>metric_name</th>\n",
       "      <th>total_score</th>\n",
       "    </tr>\n",
       "  </thead>\n",
       "  <tbody>\n",
       "    <tr>\n",
       "      <th>0</th>\n",
       "      <td>FsF-F1-01D</td>\n",
       "      <td>Data is assigned a globally unique identifier.</td>\n",
       "      <td>1</td>\n",
       "    </tr>\n",
       "    <tr>\n",
       "      <th>1</th>\n",
       "      <td>FsF-F1-02D</td>\n",
       "      <td>Data is assigned a persistent identifier.</td>\n",
       "      <td>1</td>\n",
       "    </tr>\n",
       "    <tr>\n",
       "      <th>2</th>\n",
       "      <td>FsF-F2-01M</td>\n",
       "      <td>Metadata includes descriptive core elements (creator, title, data identifier, publisher, publication date, summary and keywords) to support data findability.</td>\n",
       "      <td>2</td>\n",
       "    </tr>\n",
       "    <tr>\n",
       "      <th>3</th>\n",
       "      <td>FsF-F3-01M</td>\n",
       "      <td>Metadata includes the identifier of the data it describes.</td>\n",
       "      <td>1</td>\n",
       "    </tr>\n",
       "    <tr>\n",
       "      <th>4</th>\n",
       "      <td>FsF-F4-01M</td>\n",
       "      <td>Metadata is offered in such a way that it can be retrieved programmatically.</td>\n",
       "      <td>2</td>\n",
       "    </tr>\n",
       "  </tbody>\n",
       "</table>\n",
       "</div>"
      ],
      "text/plain": [
       "  metric_identifier  \\\n",
       "0        FsF-F1-01D   \n",
       "1        FsF-F1-02D   \n",
       "2        FsF-F2-01M   \n",
       "3        FsF-F3-01M   \n",
       "4        FsF-F4-01M   \n",
       "\n",
       "                                                                                                                                                     metric_name  \\\n",
       "0                                                                                                                 Data is assigned a globally unique identifier.   \n",
       "1                                                                                                                      Data is assigned a persistent identifier.   \n",
       "2  Metadata includes descriptive core elements (creator, title, data identifier, publisher, publication date, summary and keywords) to support data findability.   \n",
       "3                                                                                                     Metadata includes the identifier of the data it describes.   \n",
       "4                                                                                   Metadata is offered in such a way that it can be retrieved programmatically.   \n",
       "\n",
       "   total_score  \n",
       "0            1  \n",
       "1            1  \n",
       "2            2  \n",
       "3            1  \n",
       "4            2  "
      ]
     },
     "execution_count": 39,
     "metadata": {},
     "output_type": "execute_result"
    }
   ],
   "source": [
    "df_metrics = pd.DataFrame.from_dict(metrics)\n",
    "df_metrics.head()"
   ]
  },
  {
   "cell_type": "markdown",
   "metadata": {},
   "source": [
    "Run FAIR assessment for all datasets"
   ]
  },
  {
   "cell_type": "code",
   "execution_count": null,
   "metadata": {},
   "outputs": [],
   "source": [
    "%%time\n",
    "fuji_service = 'http://localhost:1071/fuji/api/v1/evaluate'\n",
    "all_records = []\n",
    "for d in datasets:\n",
    "    req = {'object_identifier':d, 'test_debug':True, 'oaipmh_endpoint':'https://data.csiro.au/oaiprovider/'}\n",
    "    r = requests.post(fuji_service, data=json.dumps(req), headers={'Content-Type': 'application/json'}, auth=('username', 'password'))\n",
    "    json_data = r.json()\n",
    "    records = {}\n",
    "    records['identifier'] = d\n",
    "    records['result'] = json_data\n",
    "    all_records.append(records)"
   ]
  },
  {
   "cell_type": "code",
   "execution_count": null,
   "metadata": {},
   "outputs": [],
   "source": [
    "timestr = time.strftime(\"%Y%m%d\")\n",
    "timestr"
   ]
  },
  {
   "cell_type": "code",
   "execution_count": null,
   "metadata": {},
   "outputs": [],
   "source": [
    "file_name = data_dir+'/'+'csiro_'+timestr+'.json'\n",
    "with open(file_name, 'w') as f:\n",
    "    json.dump(all_records, f)"
   ]
  },
  {
   "cell_type": "code",
   "execution_count": null,
   "metadata": {},
   "outputs": [],
   "source": [
    "#file_name = 'results/csiro_20200828.json'\n",
    "with open(file_name) as json_file:\n",
    "    data = json.load(json_file)"
   ]
  },
  {
   "cell_type": "code",
   "execution_count": null,
   "metadata": {},
   "outputs": [],
   "source": [
    "def get_assessment_result(id):\n",
    "    jsn = None\n",
    "    for data_dict in data:\n",
    "        if data_dict['identifier'] == id:\n",
    "            jsn = data_dict['result']\n",
    "    return jsn"
   ]
  },
  {
   "cell_type": "code",
   "execution_count": null,
   "metadata": {},
   "outputs": [],
   "source": [
    "get_assessment_result(test_dataset)"
   ]
  },
  {
   "cell_type": "code",
   "execution_count": null,
   "metadata": {},
   "outputs": [],
   "source": [
    "final = []\n",
    "for data_dict in data:\n",
    "    results = {}\n",
    "    results['identifier'] = data_dict['identifier']\n",
    "    dd = data_dict['result'] # list of dict\n",
    "    for d in dd:\n",
    "        metric_identifier = d['metric_identifier']\n",
    "        sub_principle = metric_identifier.split('-')[1]\n",
    "        principle = sub_principle[0]+'_earned'\n",
    "        principle_total = sub_principle[0]+'_total'\n",
    "        if not sub_principle in results:\n",
    "            results[sub_principle] = d['score']['earned']\n",
    "        else:\n",
    "            results[sub_principle] += d['score']['earned']\n",
    "        if not principle in results:\n",
    "            results[principle] = d['score']['earned']\n",
    "        else:\n",
    "            results[principle] += d['score']['earned']\n",
    "        if not principle_total in results:\n",
    "            results[principle_total] = d['score']['total']\n",
    "        else:\n",
    "            results[principle_total] += d['score']['total']\n",
    "    final.append(results)"
   ]
  },
  {
   "cell_type": "code",
   "execution_count": null,
   "metadata": {},
   "outputs": [],
   "source": [
    "df_results = pd.DataFrame.from_dict(final)"
   ]
  },
  {
   "cell_type": "code",
   "execution_count": null,
   "metadata": {},
   "outputs": [],
   "source": [
    "cols = ['identifier','F1','F2','F3','F4','A1','A1','I1','I3','R1','R1.1','R1.2','R1.3','F_earned','F_total','A_earned','A_total','I_earned','I_total','R_earned','R_total']\n",
    "df_results = df_results[cols]"
   ]
  },
  {
   "cell_type": "code",
   "execution_count": null,
   "metadata": {},
   "outputs": [],
   "source": [
    "df_results.head()"
   ]
  },
  {
   "cell_type": "code",
   "execution_count": null,
   "metadata": {},
   "outputs": [],
   "source": [
    "df_results ['F_Principle'] = (df_results ['F_earned'] / df_results ['F_total'] ).round(2)\n",
    "df_results ['A_Principle'] = (df_results ['A_earned'] / df_results ['A_total'] ).round(2)\n",
    "df_results ['I_Principle'] = (df_results ['I_earned'] / df_results ['I_total'] ).round(2)\n",
    "df_results ['R_Principle' ]= (df_results ['R_earned'] / df_results ['R_total'] ).round(2)"
   ]
  },
  {
   "cell_type": "code",
   "execution_count": null,
   "metadata": {},
   "outputs": [],
   "source": [
    "df_results.head()"
   ]
  },
  {
   "cell_type": "code",
   "execution_count": null,
   "metadata": {},
   "outputs": [],
   "source": [
    "df_results[df_results.identifier ==test_dataset]"
   ]
  },
  {
   "cell_type": "code",
   "execution_count": null,
   "metadata": {},
   "outputs": [],
   "source": [
    "df_hist = df_results[['identifier','F_Principle','A_Principle','I_Principle','R_Principle']]\n",
    "df_hist"
   ]
  },
  {
   "cell_type": "code",
   "execution_count": null,
   "metadata": {},
   "outputs": [],
   "source": [
    "timestr"
   ]
  },
  {
   "cell_type": "code",
   "execution_count": null,
   "metadata": {},
   "outputs": [],
   "source": [
    "title = \"FAIR Scores of PANGAEA Datasets (n=\"+str(len(df_hist))+\")\"\n",
    "df_hist.plot.hist(sharex=True,sharey=True,alpha=0.7,figsize = (8,6), title=title)\n",
    "plt.xlabel('FAIR Score')\n",
    "fig_name = data_dir+'/'+'pangaea_'+timestr+'.png'\n",
    "plt.savefig(fig_name)"
   ]
  },
  {
   "cell_type": "code",
   "execution_count": null,
   "metadata": {},
   "outputs": [],
   "source": [
    "principles = {}\n",
    "principles['F_Principle'] = 'Findability'\n",
    "principles['A_Principle'] = 'Accessibility'\n",
    "principles['I_Principle'] = 'Interoperability'\n",
    "principles['R_Principle'] = 'Reusability'\n",
    "def histograms_plot(dataframe, features, rows, cols):\n",
    "    fig=plt.figure(figsize=(20,4))\n",
    "    # set palette \n",
    "    palette = itertools.cycle(sns.color_palette())\n",
    "    for i, feature in enumerate(features):\n",
    "        c = next(palette)\n",
    "        ax=fig.add_subplot(rows,cols,i+1)\n",
    "        dataframe[feature].plot.hist(bins=20, ax=ax, color=c, range=(0, 1.0))\n",
    "        ax.set_title(principles.get(feature))\n",
    "        ax.set(xlabel=\"Score\", ylabel=\"Frequency\")\n",
    "    #fig.tight_layout()  \n",
    "    fig_name = data_dir+'/'+'sub_csiro_'+timestr+'.png'\n",
    "    fig.subplots_adjust(top=0.8)\n",
    "    plt.savefig(fig_name)\n",
    "    plt.suptitle('FAIR Scores of CSIRO Datasets By Principle '+ ' (n=' + str(len(df_hist))+')',fontsize=15)\n",
    "    plt.show()"
   ]
  },
  {
   "cell_type": "code",
   "execution_count": null,
   "metadata": {},
   "outputs": [],
   "source": [
    "histograms_plot(df_hist,df_hist.columns[1:],1,4)"
   ]
  },
  {
   "cell_type": "markdown",
   "metadata": {},
   "source": [
    "Inspect FINDABILITY "
   ]
  },
  {
   "cell_type": "code",
   "execution_count": null,
   "metadata": {},
   "outputs": [],
   "source": [
    "#Missing core metadata ['keywords']\" - seems like keywords are not sent to datacite service as part of the registration\n",
    "# Data (content) identifier is missing\n",
    "df_hist[df_hist.F_Principle <0.8]"
   ]
  },
  {
   "cell_type": "markdown",
   "metadata": {},
   "source": [
    "Inspect ACCESSBILITY"
   ]
  },
  {
   "cell_type": "code",
   "execution_count": null,
   "metadata": {},
   "outputs": [],
   "source": [
    "df_hist[df_hist.A_Principle <0.8].head()"
   ]
  },
  {
   "cell_type": "code",
   "execution_count": null,
   "metadata": {},
   "outputs": [],
   "source": [
    "#For normal collections these should be accurate, e.g. accessLevel will be something like:\n",
    "#•\tPublic\n",
    "#•\tCSIRO Users Only\n",
    "#•\tSpecific Users\n",
    "df_hist[df_hist.A_Principle > 0.8]"
   ]
  },
  {
   "cell_type": "markdown",
   "metadata": {},
   "source": [
    "Inspect INTEROPERABILITY"
   ]
  },
  {
   "cell_type": "code",
   "execution_count": null,
   "metadata": {},
   "outputs": [],
   "source": [
    "#NO RDF metadata available (sparql, content-negotiation)\n",
    "#Total number of related resources extracted - 0\n",
    "df_hist[df_hist.I_Principle < 0.3]"
   ]
  },
  {
   "cell_type": "code",
   "execution_count": null,
   "metadata": {},
   "outputs": [],
   "source": [
    "##NO RDF metadata available (sparql, content-negotiation)\n",
    "df_hist[df_hist.I_Principle > 0.3] "
   ]
  },
  {
   "cell_type": "markdown",
   "metadata": {},
   "source": [
    "Inspect REUSABILITY"
   ]
  },
  {
   "cell_type": "code",
   "execution_count": null,
   "metadata": {},
   "outputs": [],
   "source": [
    "#\"INFO: Resource type specified - Dataset\",\n",
    "# \"WARNING: NO object content available to perform file descriptors (type and size) tests\",\n",
    "# \"WARNING: NO measured variables found in metadata, skip 'measured_variable' test.\n",
    "# \"WARNING: NO license information is included in metadata\"\n",
    "\n",
    "#structured_provenance_unavailable\n",
    "#Could not perform file format checks, no object content identifiers available\n",
    "df_hist[df_hist.R_Principle < 0.5] "
   ]
  },
  {
   "cell_type": "code",
   "execution_count": null,
   "metadata": {},
   "outputs": [],
   "source": []
  },
  {
   "cell_type": "code",
   "execution_count": null,
   "metadata": {},
   "outputs": [],
   "source": []
  },
  {
   "cell_type": "code",
   "execution_count": null,
   "metadata": {},
   "outputs": [],
   "source": []
  }
 ],
 "metadata": {
  "kernelspec": {
   "display_name": "Python 3",
   "language": "python",
   "name": "python3"
  },
  "language_info": {
   "codemirror_mode": {
    "name": "ipython",
    "version": 3
   },
   "file_extension": ".py",
   "mimetype": "text/x-python",
   "name": "python",
   "nbconvert_exporter": "python",
   "pygments_lexer": "ipython3",
   "version": "3.7.6"
  }
 },
 "nbformat": 4,
 "nbformat_minor": 4
}
